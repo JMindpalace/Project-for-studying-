{
  "nbformat": 4,
  "nbformat_minor": 0,
  "metadata": {
    "colab": {
      "provenance": [],
      "authorship_tag": "ABX9TyOS/xRc/mOP428Q7RVJiO1m",
      "include_colab_link": true
    },
    "kernelspec": {
      "name": "python3",
      "display_name": "Python 3"
    },
    "language_info": {
      "name": "python"
    }
  },
  "cells": [
    {
      "cell_type": "markdown",
      "metadata": {
        "id": "view-in-github",
        "colab_type": "text"
      },
      "source": [
        "<a href=\"https://colab.research.google.com/github/JMindpalace/Project_4-Deep-learning-/blob/main/0.%20Project%20%EB%B0%A9%ED%96%A5%EC%84%B1.ipynb\" target=\"_parent\"><img src=\"https://colab.research.google.com/assets/colab-badge.svg\" alt=\"Open In Colab\"/></a>"
      ]
    },
    {
      "cell_type": "markdown",
      "source": [
        "# Project 4 목표"
      ],
      "metadata": {
        "id": "1uQSFd8vqQvQ"
      }
    },
    {
      "cell_type": "markdown",
      "source": [
        "## 기존의 목표: Project 2, 3의 데이터로 꾸준한 발전성\n",
        "기존 프로젝트를 배운 내용을 더해가며 발전성을 부각하려고 했음<br>\n",
        "하지만 기존의 발전성은 의료 분야의 관심이 있으며, 다양한 모델(P2)과 Tool(P3)을 사용한 점에서 갈무리"
      ],
      "metadata": {
        "id": "wrtZbNlr4nTl"
      }
    },
    {
      "cell_type": "markdown",
      "source": [
        "##    \n",
        "\n",
        "---"
      ],
      "metadata": {
        "id": "esax9bS5fP7H"
      }
    },
    {
      "cell_type": "markdown",
      "source": [
        "## 새로운 목표: Project 4의 CV를 통해 4, 5, 6의 새로운 발전 방향성 제시\n",
        "최초의 목표인 Brain-CT data를 사용할 틀을 제작하고<br>\n",
        "앞으로 5, 6 프로젝트를 통해 발전된 포트폴리오 제작을 목표로 함"
      ],
      "metadata": {
        "id": "T0cin61v40Ag"
      }
    },
    {
      "cell_type": "markdown",
      "source": [
        "### 향후 발전 방향성\n",
        "\n",
        "1. 현재(Project 4) 사용 가능한 기술 스택\n",
        "2. 새롭게 학습해야할 기술 스택\n",
        "  - 이미 구현된 서비스가 있는가?\n",
        "\n",
        "3. 현재 목표:\n",
        "4. 향후 목표:"
      ],
      "metadata": {
        "id": "X-US4ZEbduRU"
      }
    },
    {
      "cell_type": "markdown",
      "source": [
        "##    \n",
        "\n",
        "---"
      ],
      "metadata": {
        "id": "SoEgibwVfOPl"
      }
    },
    {
      "cell_type": "markdown",
      "source": [
        "### WHY: 주제 선정"
      ],
      "metadata": {
        "id": "ImP-Czca7K0K"
      }
    },
    {
      "cell_type": "markdown",
      "source": [
        "#### (여러분이 설정한 가설)\n",
        "  - 어떤 문제를 해결하기 위해 이 주제를 선택\n",
        "  - 해결할 수 있는 비즈니스 문제\n",
        "    - 뇌의 위치적 구분"
      ],
      "metadata": {
        "id": "zMEPOJMcdVYR"
      }
    },
    {
      "cell_type": "markdown",
      "source": [
        "#### 데이터를 선택(수집)한 이유\n",
        "  - 설정한 문제를 해결할 수 있는 데이터인가요?"
      ],
      "metadata": {
        "id": "1tz4-oTY8zo6"
      }
    },
    {
      "cell_type": "markdown",
      "source": [
        "#### 선택한 기술\n",
        "  - 데이터베이스를 사용한 이유?\n",
        "  - 동적 스크레이핑을 사용해야만 하는 상황인가요?\n",
        "  - 프론트엔드 구현이 필수적인가요? Postman을 사용할 수는 없을까요?\n",
        "  - 기술에 대한 이해"
      ],
      "metadata": {
        "id": "qAVqS5z-a4Dc"
      }
    },
    {
      "cell_type": "markdown",
      "source": [
        "###    \n",
        "\n",
        "---"
      ],
      "metadata": {
        "id": "dr-Cs6eMfGJq"
      }
    },
    {
      "cell_type": "markdown",
      "source": [
        "### WHAT: 데이터, 모델, 파이프라인 소개"
      ],
      "metadata": {
        "id": "LMsj3uXoa7CP"
      }
    },
    {
      "cell_type": "markdown",
      "source": [
        "#### 데이터\n",
        "  - 선정한 데이터가 문제 해결에 적절한가?\n",
        "  - 문제 해결에 가장 중요한 feature는?\n",
        "  \n",
        "  - 전처리는 어떻게 처리하셨나요?\n",
        "  - target이 무엇인가요?"
      ],
      "metadata": {
        "id": "KoQwPRKKbBnt"
      }
    },
    {
      "cell_type": "markdown",
      "source": [
        "#### 모델\n",
        "  - 모델을 선택한 이유?\n",
        "  - 결과가 타당한가요?"
      ],
      "metadata": {
        "id": "4cmYrq_KbDl-"
      }
    },
    {
      "cell_type": "markdown",
      "source": [
        "#### 데이터 파이프라인\n",
        "  - Over-engineering 여부?\n",
        "  - 사용한 기술의 특징에 대해 설명할 수 있나요?"
      ],
      "metadata": {
        "id": "uF5hAqONbFvb"
      }
    },
    {
      "cell_type": "markdown",
      "source": [
        "###    \n",
        "\n",
        "---"
      ],
      "metadata": {
        "id": "ti41SENLfH4i"
      }
    },
    {
      "cell_type": "markdown",
      "source": [
        "### HOW: 발표 자료 준비"
      ],
      "metadata": {
        "id": "zrq2djNEbJaW"
      }
    },
    {
      "cell_type": "markdown",
      "source": [
        "#### PPT, Keynote 등 발표 자료\n",
        "  - 1 페이지에 담긴 내용(키워드-소주제는 1개가 적당)\n",
        "  - 시중요한 내용이 강조\n"
      ],
      "metadata": {
        "id": "JHPCnH7BbMUg"
      }
    },
    {
      "cell_type": "markdown",
      "source": [
        "#### 스크립트\n",
        "  - 스크립트의 기승전결\n",
        "  - 생소한 용어나 개념에 대한 설명\n",
        "  - 반복되는 단어, 종결어미"
      ],
      "metadata": {
        "id": "b_2DfMijcbfU"
      }
    },
    {
      "cell_type": "markdown",
      "source": [
        "#### 연습\n",
        "  - 준비한 스크립트를 소리내어 읽어보았나요?\n",
        "  - 실전과 같은 환경에서 연습하셨나요?"
      ],
      "metadata": {
        "id": "4quqW_MjcdAZ"
      }
    },
    {
      "cell_type": "markdown",
      "source": [
        "#    \n",
        "\n",
        "---\n",
        "\n",
        "\n",
        "\n",
        "---\n",
        "\n"
      ],
      "metadata": {
        "id": "70s45uGQrH64"
      }
    },
    {
      "cell_type": "markdown",
      "source": [
        "# 과거 프로젝트 내용"
      ],
      "metadata": {
        "id": "5WCPO5HwpdZ_"
      }
    },
    {
      "cell_type": "markdown",
      "source": [
        "## Project 1: 게임 시장 진단"
      ],
      "metadata": {
        "id": "6KOIo-jJpkRX"
      }
    },
    {
      "cell_type": "markdown",
      "source": [
        "### 프로젝트 주의점: 그래프\n",
        "1. 내용: 정확한(왜곡된 정보 금지) 전달 내용, 시각화\n",
        "2. 선택: Feature에 따른 그래프 선택\n",
        "3. 색깔: 비교 내용은 다른 색상 / 단색은 강조 부분(투명도 활용)\n",
        "4. 설정: title, x/y_label 등 적극적 활용"
      ],
      "metadata": {
        "id": "5h7MIDNorSF1"
      }
    },
    {
      "cell_type": "markdown",
      "source": [
        "### 프로젝트 피드백\n",
        "1. 장점:\n",
        "  - 서두의 결론 제시 후 근거 설명으로 흐름 이해가 좋음\n",
        "  - 외부 자료로 설득력을 높임\n",
        "  - 색다른 분석\n",
        "\n",
        "2. 단점:\n",
        "  - 비전공자가 이해하기 힘든 단어 사용 자제\n",
        "  - 실제 용어를 사용하지 않으면 용어 자제"
      ],
      "metadata": {
        "id": "3evC5GMTsk96"
      }
    },
    {
      "cell_type": "markdown",
      "source": [
        "##   \n",
        "\n",
        "---"
      ],
      "metadata": {
        "id": "LM1Czx7hqAp_"
      }
    },
    {
      "cell_type": "markdown",
      "source": [
        "## Project 2: 건강검진 35만(1년) 데이터로 질병 분류(트리 모델)"
      ],
      "metadata": {
        "id": "uNJvcWjwpo79"
      }
    },
    {
      "cell_type": "markdown",
      "source": [
        "### 프로젝트 주의점: 문제 정의\n",
        "1. 명확히 예측할 대상을 구체적으로 작게 작게 정의\n",
        "2. 발표 목적과 논리성을 가진 문제\n",
        "3. 모델링, 평가지표, 하이퍼파라미터 등 업데이트 진행 가능성"
      ],
      "metadata": {
        "id": "uqmPtFXatEx1"
      }
    },
    {
      "cell_type": "markdown",
      "source": [
        "### 프로젝트 피드백\n",
        "1. 장점\n",
        "  - 트리모델로 좋은 알고리즘 선정\n",
        "  - 다양한 시각자료 제공\n",
        "  - 마지막 재정리\n",
        "  \n",
        "2. 단점\n",
        "  - 문제 정의의 보완(다른 세대 데이터 사용)이 필요함\n",
        "  - 타겟 예측을 위해 만든 3개의 모델에 대한 근거 제시\n",
        "  - 목차와 결론에 구체적 결과나 방안이 필요함\n",
        "  - 말하는 속도 조절이 필요함"
      ],
      "metadata": {
        "id": "MtsQuhmlu-v8"
      }
    },
    {
      "cell_type": "markdown",
      "source": [
        "##    \n",
        "\n",
        "---"
      ],
      "metadata": {
        "id": "8VLZEdHcqCSe"
      }
    },
    {
      "cell_type": "markdown",
      "source": [
        "## Project 3: 건강검진 100만(5년) 데이터로 다양한 Tool 사용"
      ],
      "metadata": {
        "id": "PJtY4dbEqDhO"
      }
    },
    {
      "cell_type": "markdown",
      "source": [
        "### 프로젝트 주의점: 문제발견, 정확한 요인파악, 해결가설, 결과\n",
        "0. 서비스에 사용된 데이터의 저작권 유의\n",
        "1. Why: 서비스의 필요성과 구현을 위한 기술의 사용 근거\n",
        "2. What: 구현한 서비스의 내용이 무엇인지 소개\n",
        "3. How: 내용의 전달 방식\n",
        "4. 실무의 DeadLine: 가능한 정도의 파악, 프로젝트 축소의 결단\n",
        "5. 원하는 타겟 직군적 / 청자를 고려한 / 간결한 발표"
      ],
      "metadata": {
        "id": "Pq_5pgV7wwuM"
      }
    },
    {
      "cell_type": "markdown",
      "source": [
        "### 프로젝트 피드백\n",
        "1. 장점\n",
        "  - 대시보드로 인사이트 도출\n",
        "  - 대량의 데이터로 DB의 정당성 제공\n",
        "  \n",
        "2. 단점\n",
        "  - 영상 전달력 부족(소리 확인 필수)\n",
        "  - 시각 자료와 발표의 전달량 조절\n",
        "  - 핵심적 내용으로 압축"
      ],
      "metadata": {
        "id": "PYp2UGzA37e6"
      }
    }
  ]
}