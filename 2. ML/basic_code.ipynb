{
  "nbformat": 4,
  "nbformat_minor": 0,
  "metadata": {
    "colab": {
      "provenance": [],
      "authorship_tag": "ABX9TyM7f6dEkGTY5k76LdE9kWmi",
      "include_colab_link": true
    },
    "kernelspec": {
      "name": "python3",
      "display_name": "Python 3"
    },
    "language_info": {
      "name": "python"
    }
  },
  "cells": [
    {
      "cell_type": "markdown",
      "metadata": {
        "id": "view-in-github",
        "colab_type": "text"
      },
      "source": [
        "<a href=\"https://colab.research.google.com/github/JMindpalace/codestate_section2_project/blob/main/basic_code.ipynb\" target=\"_parent\"><img src=\"https://colab.research.google.com/assets/colab-badge.svg\" alt=\"Open In Colab\"/></a>"
      ]
    },
    {
      "cell_type": "markdown",
      "source": [
        "# 문제정의\n",
        "헬스케어 타겟 선정 전에 한국 사회의 (육체적) 건강도를 알아보려고 합니다.<br>\n",
        "만약 한국사회가 건강적인 문제가 없다면, 프로젝트 3 이후에서 헬스케어 주제로 사용하지 않을 것입니다.\n",
        "\n",
        "\n",
        "1.   < 문제 기준 > 현재 40세 이후의 한국 사회는 건강한가요?(육체적 건강을 의미함)\n",
        "2.   프로젝트 3 이후에 한국시장에서도 헬스케어를 분석할 이유가 있나요?\n",
        "3.   있다면 어떤 질병을 주목할 것인지, 없다면 이유는 무엇인가요?\n",
        "\n",
        "---"
      ],
      "metadata": {
        "id": "5XBPjh18DkvQ"
      }
    },
    {
      "cell_type": "code",
      "source": [
        "!sudo apt install font-manager\n",
        "!sudo apt-get install -y fonts-nanum\n",
        "!sudo fc-cache -fv\n",
        "!rm ~/.cache/matplotlib -rf\n",
        "!pip3 install pdpbox"
      ],
      "metadata": {
        "id": "fQVWXO6zIk2J"
      },
      "execution_count": null,
      "outputs": []
    },
    {
      "cell_type": "code",
      "source": [
        "import pandas as pd\n",
        "import numpy as np\n",
        "import matplotlib.pyplot as plt\n",
        "import seaborn as sns\n",
        "import warnings\n",
        "warnings.filterwarnings(action='ignore')\n",
        "\n",
        "from sklearn.model_selection import train_test_split\n",
        "from sklearn.tree import DecisionTreeClassifier, export_graphviz\n",
        "from sklearn.ensemble import RandomForestClassifier\n",
        "from sklearn.metrics import classification_report, roc_curve, roc_auc_score, confusion_matrix, ConfusionMatrixDisplay, accuracy_score\n",
        "from xgboost import XGBClassifier\n",
        "from imblearn.combine import SMOTEENN, SMOTETomek\n",
        "from pdpbox.pdp import pdp_isolate, pdp_plot, pdp_interact, pdp_interact_plot\n",
        "import graphviz"
      ],
      "metadata": {
        "id": "ZY_RC4to38hP"
      },
      "execution_count": 131,
      "outputs": []
    },
    {
      "cell_type": "markdown",
      "source": [
        "# 데이터셋(한국-공공데이터포털에서 확보함)\n",
        "국민건강보험공단에서 제공한 '20년도 한국인의 건강 검진 정보'를 분석 대상으로 합니다.<br>\n",
        "(https://www.data.go.kr/data/15007122/fileData.do)<br><br>\n",
        "\n",
        "# 데이터 설명(국민건강보험공단에서 제공하는 사용자 메뉴얼을 추가적으로 설명함)\n",
        "(https://www.data.go.kr/data/15007122/fileData.do#layer_data_infomation)\n",
        "> 데이터 사이즈 : (1,000,000, 31) - (국민건강보험가입자 중 100만 명 무작위 선별)<br>\n",
        "> 데이터 기간 : 20년도 건강 검진 자료(매년 12월에 2년 전 자료 추가 방식으로 22년 기준 20년도가 최신 자료)\n",
        "\n",
        "Feature(총 31개의 열이 있지만 분석에 필요한 16열만 작성함)<BR>\n",
        "< 검진자 기본 정보 >\n",
        "  - 성별코드: 1은 남자 / 2는 여자(검진마다 정상 범위가 다름)\n",
        "  - 연령대 코드(5세단위): '40~44세를 그룹9'로 이후 5세마다 +1로 하여 10개 그룹\n",
        "\n",
        "< 검진 결과 & 기저 원인 ><br>\n",
        "{ 생활습관 - 운동 }\n",
        "  - 신장(5Cm 단위): 키는 내림으로 100~104의 5cm 구간을 100으로 통일\n",
        "  - 체중(5Kg 단위): 체중 또한 내림으로 70~74의 5kg 구간을 70으로 통일\n",
        "  - 허리둘레(cm 단위): 남성 90, 여성 85 이상이면 복부비만<br>\n",
        "  \n",
        "{ 생활습관 - 문진 }\n",
        "  - 흡연상태: 1(흡연 경험 없음) / 2(과거에 흡연) / 3(현재도 흡연)\n",
        "  - 음주여부: 0(음주 안 함) / 1(음주 함)\n",
        "\n",
        "{ 장기 질환 판단 > 신장 > 혈압 조절 호르몬 분비 }\n",
        "  - 요단백: 소변에 단백질이 섞인 여부\n",
        "  - 혈청크레아티닌: 몸 속 노폐물 수치(1.7이상 위험군)<br>\n",
        "\n",
        "{ 장기 질환 판단 > 간 > 콜레스테롤 조절 }\n",
        "  - (혈청지오티)AST: 세포 손상 농도(40 이상 위험)\n",
        "  - (혈청지오티)ALT: 비만 정도에 민감한 반응(40 이상 위험)\n",
        "  - 감마 지티피: 음주에 민감한 반응(남성 63, 여성 35 이상 위험)\n",
        "\n",
        "< Target Data ><br>\n",
        "{ 고혈압 Target }\n",
        "- 수축기 혈압(mmHG): 검진자의 최고 혈압\n",
        "- 이완기 혈압(mmHG): 검진자의 최저 혈압<br>\n",
        "\n",
        "{ 당뇨 Target }\n",
        "- 식전혈당(공복혈당): 혈액 100ML당 포도당 수치(126이상 당뇨병)<br>\n",
        "\n",
        "{ 고지혈증 Target }\n",
        "  - 총 콜레스테롤: 중성지방 + HDL 콜레스테롤 + LDL 콜레스테롤의 총 합\n",
        "\n",
        "\n",
        "---"
      ],
      "metadata": {
        "id": "jt_-jvvjD_6n"
      }
    },
    {
      "cell_type": "code",
      "execution_count": 132,
      "metadata": {
        "colab": {
          "base_uri": "https://localhost:8080/"
        },
        "id": "d9Sav5Bj36BX",
        "outputId": "5f779720-912d-448c-de89-56c3817f7355"
      },
      "outputs": [
        {
          "output_type": "execute_result",
          "data": {
            "text/plain": [
              "(1000000, 31)"
            ]
          },
          "metadata": {},
          "execution_count": 132
        }
      ],
      "source": [
        "df = pd.read_csv('국민건강보험공단_건강검진정보_20211229.CSV', encoding='cp949')\n",
        "df.shape # 1,000,000 * 31"
      ]
    },
    {
      "cell_type": "code",
      "source": [
        "df.columns"
      ],
      "metadata": {
        "colab": {
          "base_uri": "https://localhost:8080/"
        },
        "id": "50VEc05-8M2M",
        "outputId": "06acf8de-f501-4570-99bf-008057259b52"
      },
      "execution_count": 133,
      "outputs": [
        {
          "output_type": "execute_result",
          "data": {
            "text/plain": [
              "Index(['기준년도', '가입자 일련번호', '시도코드', '성별코드', '연령대 코드(5세단위)', '신장(5Cm단위)',\n",
              "       '체중(5Kg 단위)', '허리둘레', '시력(좌)', '시력(우)', '청력(좌)', '청력(우)', '수축기 혈압',\n",
              "       '이완기 혈압', '식전혈당(공복혈당)', '총 콜레스테롤', '트리글리세라이드', 'HDL 콜레스테롤', 'LDL 콜레스테롤',\n",
              "       '혈색소', '요단백', '혈청크레아티닌', '(혈청지오티)AST', '(혈청지오티)ALT', '감마 지티피', '흡연상태',\n",
              "       '음주여부', '구강검진 수검여부', '치아우식증유무', '치석', '데이터 공개일자'],\n",
              "      dtype='object')"
            ]
          },
          "metadata": {},
          "execution_count": 133
        }
      ]
    },
    {
      "cell_type": "markdown",
      "source": [
        "# 1. Feature drop 근거\n",
        "> 기준년도: 2020년 기준이기에 drop<br>\n",
        "> 가입자 일련번호: index역활이기에 drop<br>\n",
        "> 시도코드: 대한민국 전체가 대상이기에 시도 구분이 무의미함<br>\n",
        "> 시력(좌,우): 시력 감소의 시기는 찾을 수 있지만 해석이 어려움<br>\n",
        "> 청력(좌,우): 결과에 대한 활용 도메인 부족<br>\n",
        "> (트리글리세라이드+HDL+LDL): 3가지 콜레스테롤의 합이 총 콜레스테롤이기에 drop<br>\n",
        "> 혈색소: 빈혈과 연관있지만 혈압과는 무관하기에 drop<br>\n",
        "> 구강검진 수검여부, 치아우식증유무, 치석 : 치아는 양치를 통해 관리 가능<br>\n",
        "> 데이터 공개일자: 공개일자가 같이게 drop"
      ],
      "metadata": {
        "id": "mubhfzGJ4e7q"
      }
    },
    {
      "cell_type": "code",
      "source": [
        "drop_col = ['기준년도', '가입자 일련번호','시도코드','시력(좌)','시력(우)','청력(좌)','청력(우)','트리글리세라이드', 'HDL 콜레스테롤', 'LDL 콜레스테롤',\n",
        "            '혈색소','구강검진 수검여부','치아우식증유무','치석','데이터 공개일자']\n",
        "df = df.drop( drop_col, axis=1 )\n",
        "df.shape # 1,000,000 * 16"
      ],
      "metadata": {
        "colab": {
          "base_uri": "https://localhost:8080/"
        },
        "id": "L-IsVf9t4Fq9",
        "outputId": "1b18997c-658f-4f5d-a2b7-b2e26e6f62e9"
      },
      "execution_count": 134,
      "outputs": [
        {
          "output_type": "execute_result",
          "data": {
            "text/plain": [
              "(1000000, 16)"
            ]
          },
          "metadata": {},
          "execution_count": 134
        }
      ]
    },
    {
      "cell_type": "markdown",
      "source": [
        "# 2. Row drop 근거\n",
        "0. Dataset size\n",
        "   > 백 만개의 데이터셋 크기로 진행이 어려움<br>\n",
        "   > 따라서 수치의 조정보다는 drop을 목표로 함\n",
        "\n",
        "0. 의료적 수치의 임의적 변경 불가\n",
        "   > 해당 데이터셋의 경우 개개인의 검진을 통해 획득한 데이터<br>\n",
        "   > 따라서 평균 등의 임의적 변경은 오염된 데이터셋이 되기에 drop을 목표로 함\n",
        "\n",
        "1. null data\n",
        "   > 최대 null인 '총 콜레스테롤'의 경우 597,694로 많지만<br>\n",
        "   > (중성지방, HDL, LDL에서도 공란, 즉 합산을 통한 변경 불가능)<br>\n",
        "   > 제거 이후에도 약 40만의 데이터가 남아서 drop을 결정함"
      ],
      "metadata": {
        "id": "iikAXy9a6dHV"
      }
    },
    {
      "cell_type": "code",
      "source": [
        "print( df.isnull().sum() )\n",
        "df = df.dropna()\n",
        "df.shape # 399,987, 16"
      ],
      "metadata": {
        "colab": {
          "base_uri": "https://localhost:8080/"
        },
        "id": "B9hJSrxbUtA_",
        "outputId": "537782aa-2c38-4a40-a444-9971a43d6794"
      },
      "execution_count": 135,
      "outputs": [
        {
          "output_type": "stream",
          "name": "stdout",
          "text": [
            "성별코드                 0\n",
            "연령대 코드(5세단위)         0\n",
            "신장(5Cm단위)            0\n",
            "체중(5Kg 단위)           0\n",
            "허리둘레               108\n",
            "수축기 혈압            7532\n",
            "이완기 혈압            7534\n",
            "식전혈당(공복혈당)        7602\n",
            "총 콜레스테롤         597694\n",
            "요단백              12141\n",
            "혈청크레아티닌           7602\n",
            "(혈청지오티)AST        7601\n",
            "(혈청지오티)ALT        7602\n",
            "감마 지티피            7603\n",
            "흡연상태               343\n",
            "음주여부               196\n",
            "dtype: int64\n"
          ]
        },
        {
          "output_type": "execute_result",
          "data": {
            "text/plain": [
              "(399987, 16)"
            ]
          },
          "metadata": {},
          "execution_count": 135
        }
      ]
    },
    {
      "cell_type": "code",
      "source": [
        "# 열이름이 너무 복잡해서 우선 정리\n",
        "df.columns = [ '성별', '연령대', '신장', '체중', '허리둘레', '최고혈압', '최저혈압', '공복혈당', '총콜레스테롤', '요단백', '혈청크레아티닌', 'AST', 'ALT', '감마GTP', '흡연', '음주' ]\n",
        "df.columns"
      ],
      "metadata": {
        "colab": {
          "base_uri": "https://localhost:8080/"
        },
        "id": "TVds-lhi-Lvd",
        "outputId": "6a00200e-b41f-43a7-bb20-b39d25cf578d"
      },
      "execution_count": 136,
      "outputs": [
        {
          "output_type": "execute_result",
          "data": {
            "text/plain": [
              "Index(['성별', '연령대', '신장', '체중', '허리둘레', '최고혈압', '최저혈압', '공복혈당', '총콜레스테롤',\n",
              "       '요단백', '혈청크레아티닌', 'AST', 'ALT', '감마GTP', '흡연', '음주'],\n",
              "      dtype='object')"
            ]
          },
          "metadata": {},
          "execution_count": 136
        }
      ]
    },
    {
      "cell_type": "markdown",
      "source": [
        "# Target Engineering\n",
        "> 병을 지정하고, 기저를 찾는 방식으로 분류가 적정하다고 판단됨<br>\n",
        "> 병의 기저를 파악하면, 기저의 회귀적 예측도 가능하다고 판단됨"
      ],
      "metadata": {
        "id": "937SG-XXXfI4"
      }
    },
    {
      "cell_type": "code",
      "source": [
        "# 혈압 수치를 고혈압 Target으로 변경\n",
        "df['고혈압'] = np.zeros( len(df) ).astype(int)\n",
        "df.loc[ (df['최고혈압'] > 140 ) & (df['최저혈압'] > 90) , '고혈압' ] = 1\n",
        "bp_drop = ['최고혈압', '최저혈압']\n",
        "df = df.drop( bp_drop, axis=1 )\n",
        "df.shape  # 399,987, 15"
      ],
      "metadata": {
        "colab": {
          "base_uri": "https://localhost:8080/"
        },
        "id": "mUBnrdlJHmpj",
        "outputId": "aa7c8d52-f02c-4da1-9106-ff8ac5d5bf5c"
      },
      "execution_count": 137,
      "outputs": [
        {
          "output_type": "execute_result",
          "data": {
            "text/plain": [
              "(399987, 15)"
            ]
          },
          "metadata": {},
          "execution_count": 137
        }
      ]
    },
    {
      "cell_type": "code",
      "source": [
        "# 공복혈당 수치를 당뇨 Target으로 변경\n",
        "df['당뇨'] = np.zeros( len(df) ).astype(int)\n",
        "df.loc[ (df['공복혈당'] >= 126 ) , '당뇨' ] = 1\n",
        "df = df.drop( '공복혈당', axis=1 )\n",
        "df.shape  # 399,987, 15"
      ],
      "metadata": {
        "colab": {
          "base_uri": "https://localhost:8080/"
        },
        "id": "hkBYbYe_ZlPK",
        "outputId": "947661c2-c113-4ab0-90c1-28e310f4ea1a"
      },
      "execution_count": 138,
      "outputs": [
        {
          "output_type": "execute_result",
          "data": {
            "text/plain": [
              "(399987, 15)"
            ]
          },
          "metadata": {},
          "execution_count": 138
        }
      ]
    },
    {
      "cell_type": "code",
      "source": [
        "# 총콜레스테롤 수치를 고지혈증 Target으로 변경\n",
        "df['고지혈증'] = np.zeros( len(df) ).astype(int)\n",
        "df.loc[ (df['총콜레스테롤'] >= 250 ) , '고지혈증' ] = 1\n",
        "df = df.drop( '총콜레스테롤', axis=1 )\n",
        "df.shape  # 399,987, 15"
      ],
      "metadata": {
        "colab": {
          "base_uri": "https://localhost:8080/"
        },
        "id": "4GV_jNPQYVlc",
        "outputId": "d5993df5-e502-4c50-8970-90f38f065017"
      },
      "execution_count": 139,
      "outputs": [
        {
          "output_type": "execute_result",
          "data": {
            "text/plain": [
              "(399987, 15)"
            ]
          },
          "metadata": {},
          "execution_count": 139
        }
      ]
    },
    {
      "cell_type": "markdown",
      "source": [
        "# Feature Engineering"
      ],
      "metadata": {
        "id": "cdR6ZVJmYJBR"
      }
    },
    {
      "cell_type": "code",
      "source": [
        "# 연령대 그룹을 대표하는 나이로 변경 & 85세 이상은 1,700명으로 80세로 모두 편입\n",
        "df['연령대'] = df['연령대'].replace( { 9:40, 10:45, 11:50, 12:55, 13:60, 14:65, 15:70, 16:75, 17:80, 18:80 } )\n",
        "df['연령대'].value_counts()"
      ],
      "metadata": {
        "colab": {
          "base_uri": "https://localhost:8080/"
        },
        "id": "ko1a7MDcENwl",
        "outputId": "430c109f-80e1-4606-ff43-3c86288a823a"
      },
      "execution_count": 140,
      "outputs": [
        {
          "output_type": "execute_result",
          "data": {
            "text/plain": [
              "60    88721\n",
              "40    84677\n",
              "50    47883\n",
              "45    46447\n",
              "55    45541\n",
              "65    32252\n",
              "70    23432\n",
              "80    15621\n",
              "75    15413\n",
              "Name: 연령대, dtype: int64"
            ]
          },
          "metadata": {},
          "execution_count": 140
        }
      ]
    },
    {
      "cell_type": "code",
      "source": [
        "# 체중, 신장 데이터보다는 BMI로 통합 관리\n",
        "df['BMI'] = round( df['체중'] / (df['신장']*df['신장']) * 10000 , 2)\n",
        "bmi_drop = ['체중', '신장']\n",
        "df = df.drop( bmi_drop, axis=1 )\n",
        "df.shape # 399,987, 14"
      ],
      "metadata": {
        "colab": {
          "base_uri": "https://localhost:8080/"
        },
        "id": "nYoc5lrj_8Tu",
        "outputId": "b0b43b2e-e978-4cc8-ba70-05acd7dd6da8"
      },
      "execution_count": 141,
      "outputs": [
        {
          "output_type": "execute_result",
          "data": {
            "text/plain": [
              "(399987, 14)"
            ]
          },
          "metadata": {},
          "execution_count": 141
        }
      ]
    },
    {
      "cell_type": "code",
      "source": [
        "# 요단백의 수치를 1회 배출되는 단백질의 양으로 변환\n",
        "df['단백뇨'] = np.zeros( len(df) ).astype(int)\n",
        "\n",
        "df.loc[ (df['요단백'] <= 2.0 ) , '단백뇨' ] = 0\n",
        "df.loc[ (df['요단백'] == 3.0 ) , '단백뇨' ] = 30\n",
        "df.loc[ (df['요단백'] == 4.0 ) , '단백뇨' ] = 100\n",
        "df.loc[ (df['요단백'] == 5.0 ) , '단백뇨' ] = 300\n",
        "df.loc[ (df['요단백'] == 6.0 ) , '단백뇨' ] = 1000\n",
        "\n",
        "df = df.drop( '요단백', axis=1 )\n",
        "df.shape  # 399,987, 14"
      ],
      "metadata": {
        "colab": {
          "base_uri": "https://localhost:8080/"
        },
        "id": "yu2fvNXrNpOL",
        "outputId": "2e9ffc1e-98a3-4107-be2f-444f137d8aad"
      },
      "execution_count": 142,
      "outputs": [
        {
          "output_type": "execute_result",
          "data": {
            "text/plain": [
              "(399987, 14)"
            ]
          },
          "metadata": {},
          "execution_count": 142
        }
      ]
    },
    {
      "cell_type": "code",
      "source": [
        "# 소수점이 필요없는 열은 int로 변경\n",
        "df['AST'] = df['AST'].astype(int)\n",
        "df['ALT'] = df['ALT'].astype(int)\n",
        "df['감마GTP'] = df['감마GTP'].astype(int)\n",
        "\n",
        "df['흡연'] = df['흡연'].astype(int) # 추후 Object로 두고 ordinal 검토\n",
        "df['음주'] = df['음주'].astype(int)"
      ],
      "metadata": {
        "id": "Igf0x3hCYX-N"
      },
      "execution_count": 143,
      "outputs": []
    },
    {
      "cell_type": "code",
      "source": [
        "# 연관성 있는 칼럼끼리 재배치\n",
        "df = df[[ '성별', '연령대',                       # 기본 정보\n",
        "          'BMI', '허리둘레', '흡연', '음주',      # 기저원인: 생활습관 - 운동&문진\n",
        "          '단백뇨', '혈청크레아티닌',             # 기저원인: 장기 신장 질환\n",
        "          'AST', 'ALT', '감마GTP',                # 기저원인: 장기 간 질환\n",
        "          '고혈압', '당뇨', '고지혈증' ]]         # Target Data\n",
        "df.head(5)"
      ],
      "metadata": {
        "colab": {
          "base_uri": "https://localhost:8080/",
          "height": 206
        },
        "id": "5nLogPhGSctk",
        "outputId": "2f215960-b83d-4c29-ee79-bcc2e4a18d18"
      },
      "execution_count": 144,
      "outputs": [
        {
          "output_type": "execute_result",
          "data": {
            "text/plain": [
              "   성별  연령대    BMI  허리둘레  흡연  음주  단백뇨  혈청크레아티닌  AST  ALT  감마GTP  고혈압  당뇨  고지혈증\n",
              "0   1   40  22.04  72.1   1   0    0      1.1   21   27     21    0   0     0\n",
              "4   2   55  20.81  75.2   1   0    0      0.7   18   17     14    0   0     0\n",
              "5   1   40  24.84  94.0   3   1    0      1.1   25   32     26    0   0     0\n",
              "6   1   40  29.38  93.0   3   1    0      0.7   18   20     35    0   1     0\n",
              "8   2   80  22.22  82.0   1   0    0      0.7   42   48     39    0   0     0"
            ],
            "text/html": [
              "\n",
              "  <div id=\"df-76794afb-d6dc-46a8-8860-af5e2be5b956\">\n",
              "    <div class=\"colab-df-container\">\n",
              "      <div>\n",
              "<style scoped>\n",
              "    .dataframe tbody tr th:only-of-type {\n",
              "        vertical-align: middle;\n",
              "    }\n",
              "\n",
              "    .dataframe tbody tr th {\n",
              "        vertical-align: top;\n",
              "    }\n",
              "\n",
              "    .dataframe thead th {\n",
              "        text-align: right;\n",
              "    }\n",
              "</style>\n",
              "<table border=\"1\" class=\"dataframe\">\n",
              "  <thead>\n",
              "    <tr style=\"text-align: right;\">\n",
              "      <th></th>\n",
              "      <th>성별</th>\n",
              "      <th>연령대</th>\n",
              "      <th>BMI</th>\n",
              "      <th>허리둘레</th>\n",
              "      <th>흡연</th>\n",
              "      <th>음주</th>\n",
              "      <th>단백뇨</th>\n",
              "      <th>혈청크레아티닌</th>\n",
              "      <th>AST</th>\n",
              "      <th>ALT</th>\n",
              "      <th>감마GTP</th>\n",
              "      <th>고혈압</th>\n",
              "      <th>당뇨</th>\n",
              "      <th>고지혈증</th>\n",
              "    </tr>\n",
              "  </thead>\n",
              "  <tbody>\n",
              "    <tr>\n",
              "      <th>0</th>\n",
              "      <td>1</td>\n",
              "      <td>40</td>\n",
              "      <td>22.04</td>\n",
              "      <td>72.1</td>\n",
              "      <td>1</td>\n",
              "      <td>0</td>\n",
              "      <td>0</td>\n",
              "      <td>1.1</td>\n",
              "      <td>21</td>\n",
              "      <td>27</td>\n",
              "      <td>21</td>\n",
              "      <td>0</td>\n",
              "      <td>0</td>\n",
              "      <td>0</td>\n",
              "    </tr>\n",
              "    <tr>\n",
              "      <th>4</th>\n",
              "      <td>2</td>\n",
              "      <td>55</td>\n",
              "      <td>20.81</td>\n",
              "      <td>75.2</td>\n",
              "      <td>1</td>\n",
              "      <td>0</td>\n",
              "      <td>0</td>\n",
              "      <td>0.7</td>\n",
              "      <td>18</td>\n",
              "      <td>17</td>\n",
              "      <td>14</td>\n",
              "      <td>0</td>\n",
              "      <td>0</td>\n",
              "      <td>0</td>\n",
              "    </tr>\n",
              "    <tr>\n",
              "      <th>5</th>\n",
              "      <td>1</td>\n",
              "      <td>40</td>\n",
              "      <td>24.84</td>\n",
              "      <td>94.0</td>\n",
              "      <td>3</td>\n",
              "      <td>1</td>\n",
              "      <td>0</td>\n",
              "      <td>1.1</td>\n",
              "      <td>25</td>\n",
              "      <td>32</td>\n",
              "      <td>26</td>\n",
              "      <td>0</td>\n",
              "      <td>0</td>\n",
              "      <td>0</td>\n",
              "    </tr>\n",
              "    <tr>\n",
              "      <th>6</th>\n",
              "      <td>1</td>\n",
              "      <td>40</td>\n",
              "      <td>29.38</td>\n",
              "      <td>93.0</td>\n",
              "      <td>3</td>\n",
              "      <td>1</td>\n",
              "      <td>0</td>\n",
              "      <td>0.7</td>\n",
              "      <td>18</td>\n",
              "      <td>20</td>\n",
              "      <td>35</td>\n",
              "      <td>0</td>\n",
              "      <td>1</td>\n",
              "      <td>0</td>\n",
              "    </tr>\n",
              "    <tr>\n",
              "      <th>8</th>\n",
              "      <td>2</td>\n",
              "      <td>80</td>\n",
              "      <td>22.22</td>\n",
              "      <td>82.0</td>\n",
              "      <td>1</td>\n",
              "      <td>0</td>\n",
              "      <td>0</td>\n",
              "      <td>0.7</td>\n",
              "      <td>42</td>\n",
              "      <td>48</td>\n",
              "      <td>39</td>\n",
              "      <td>0</td>\n",
              "      <td>0</td>\n",
              "      <td>0</td>\n",
              "    </tr>\n",
              "  </tbody>\n",
              "</table>\n",
              "</div>\n",
              "      <button class=\"colab-df-convert\" onclick=\"convertToInteractive('df-76794afb-d6dc-46a8-8860-af5e2be5b956')\"\n",
              "              title=\"Convert this dataframe to an interactive table.\"\n",
              "              style=\"display:none;\">\n",
              "        \n",
              "  <svg xmlns=\"http://www.w3.org/2000/svg\" height=\"24px\"viewBox=\"0 0 24 24\"\n",
              "       width=\"24px\">\n",
              "    <path d=\"M0 0h24v24H0V0z\" fill=\"none\"/>\n",
              "    <path d=\"M18.56 5.44l.94 2.06.94-2.06 2.06-.94-2.06-.94-.94-2.06-.94 2.06-2.06.94zm-11 1L8.5 8.5l.94-2.06 2.06-.94-2.06-.94L8.5 2.5l-.94 2.06-2.06.94zm10 10l.94 2.06.94-2.06 2.06-.94-2.06-.94-.94-2.06-.94 2.06-2.06.94z\"/><path d=\"M17.41 7.96l-1.37-1.37c-.4-.4-.92-.59-1.43-.59-.52 0-1.04.2-1.43.59L10.3 9.45l-7.72 7.72c-.78.78-.78 2.05 0 2.83L4 21.41c.39.39.9.59 1.41.59.51 0 1.02-.2 1.41-.59l7.78-7.78 2.81-2.81c.8-.78.8-2.07 0-2.86zM5.41 20L4 18.59l7.72-7.72 1.47 1.35L5.41 20z\"/>\n",
              "  </svg>\n",
              "      </button>\n",
              "      \n",
              "  <style>\n",
              "    .colab-df-container {\n",
              "      display:flex;\n",
              "      flex-wrap:wrap;\n",
              "      gap: 12px;\n",
              "    }\n",
              "\n",
              "    .colab-df-convert {\n",
              "      background-color: #E8F0FE;\n",
              "      border: none;\n",
              "      border-radius: 50%;\n",
              "      cursor: pointer;\n",
              "      display: none;\n",
              "      fill: #1967D2;\n",
              "      height: 32px;\n",
              "      padding: 0 0 0 0;\n",
              "      width: 32px;\n",
              "    }\n",
              "\n",
              "    .colab-df-convert:hover {\n",
              "      background-color: #E2EBFA;\n",
              "      box-shadow: 0px 1px 2px rgba(60, 64, 67, 0.3), 0px 1px 3px 1px rgba(60, 64, 67, 0.15);\n",
              "      fill: #174EA6;\n",
              "    }\n",
              "\n",
              "    [theme=dark] .colab-df-convert {\n",
              "      background-color: #3B4455;\n",
              "      fill: #D2E3FC;\n",
              "    }\n",
              "\n",
              "    [theme=dark] .colab-df-convert:hover {\n",
              "      background-color: #434B5C;\n",
              "      box-shadow: 0px 1px 3px 1px rgba(0, 0, 0, 0.15);\n",
              "      filter: drop-shadow(0px 1px 2px rgba(0, 0, 0, 0.3));\n",
              "      fill: #FFFFFF;\n",
              "    }\n",
              "  </style>\n",
              "\n",
              "      <script>\n",
              "        const buttonEl =\n",
              "          document.querySelector('#df-76794afb-d6dc-46a8-8860-af5e2be5b956 button.colab-df-convert');\n",
              "        buttonEl.style.display =\n",
              "          google.colab.kernel.accessAllowed ? 'block' : 'none';\n",
              "\n",
              "        async function convertToInteractive(key) {\n",
              "          const element = document.querySelector('#df-76794afb-d6dc-46a8-8860-af5e2be5b956');\n",
              "          const dataTable =\n",
              "            await google.colab.kernel.invokeFunction('convertToInteractive',\n",
              "                                                     [key], {});\n",
              "          if (!dataTable) return;\n",
              "\n",
              "          const docLinkHtml = 'Like what you see? Visit the ' +\n",
              "            '<a target=\"_blank\" href=https://colab.research.google.com/notebooks/data_table.ipynb>data table notebook</a>'\n",
              "            + ' to learn more about interactive tables.';\n",
              "          element.innerHTML = '';\n",
              "          dataTable['output_type'] = 'display_data';\n",
              "          await google.colab.output.renderOutput(dataTable, element);\n",
              "          const docLink = document.createElement('div');\n",
              "          docLink.innerHTML = docLinkHtml;\n",
              "          element.appendChild(docLink);\n",
              "        }\n",
              "      </script>\n",
              "    </div>\n",
              "  </div>\n",
              "  "
            ]
          },
          "metadata": {},
          "execution_count": 144
        }
      ]
    },
    {
      "cell_type": "code",
      "source": [
        "df.to_csv('40만_검진정보.csv', index=False) # 기본 전처리 끝"
      ],
      "metadata": {
        "id": "hxZcATQR8ELP"
      },
      "execution_count": 145,
      "outputs": []
    },
    {
      "cell_type": "markdown",
      "source": [
        "---"
      ],
      "metadata": {
        "id": "pedFkfeIoMU4"
      }
    },
    {
      "cell_type": "markdown",
      "source": [
        "# **가설**\n",
        "1. 타겟 질병(고혈압, 당뇨, 고지혈증)은 ALT와 관련이 크다.\n",
        "   > ALT의 경우 비만에 민감한데, 질병 모두 체중과 연관이 클 것이다.<BR>\n",
        "   > 다른 AST는 약이나 질병 감염, GTP는 음주로 2, 3순위로 예상됨\n",
        "2. 신장 질환 판단 기준 2가지는 고혈압에 관련이 크다.\n",
        "   > 요단백, 혈청크레아티닌 모두 신장 기능의 수치인데<BR>\n",
        "   > 값이 클수록 신장의 문제로 혈압 조절이 불가능해져서 관련이 큼\n",
        "3. 한국은 건강한 사회인가? 헬스케어가 필요한 매력적인 시장인가?\n",
        "   \n",
        "---"
      ],
      "metadata": {
        "id": "viIpdXzAEmVc"
      }
    },
    {
      "cell_type": "markdown",
      "source": [
        "# 타겟 비율 확인\n",
        "> 5%, 10%, 10% 씩으로 분포의 불균형이 심함<br>\n",
        "> 하지만 불균형을 통해 건강한 사람의 비율이 많다는 판단 근거 1로 충족함<br>\n",
        "\n",
        "> 또한 질병의 비율 자체로 가능한 추정\n",
        "1. 고혈압 환자는 젊은 나이의 사망으로 생존 인원 자체가 적음<br>\n",
        "   (즉, 고혈압은 갑작스러운 상황에 대비하기가 어려움)\n",
        "2. 당뇨, 고지혈증의 질환은 평소의 관리로 호전적으로 수명 연장이 가능하다."
      ],
      "metadata": {
        "id": "2xm8sUQYZkXe"
      }
    },
    {
      "cell_type": "code",
      "source": [
        "plt.rc('font', family='NanumBarunGothic')\n",
        "\n",
        "fig , i, plot_target = plt.figure(figsize=(24,8)), 1, ['성별','고혈압','당뇨','고지혈증']\n",
        "for f in plot_target:\n",
        "  plt.subplot(1,4,i)\n",
        "  df[f].value_counts(normalize=True).plot.pie(autopct=\"%.2f%%\")\n",
        "  plt.title(f)\n",
        "  i += 1"
      ],
      "metadata": {
        "colab": {
          "base_uri": "https://localhost:8080/",
          "height": 337
        },
        "id": "OsU04r_nbr3x",
        "outputId": "5435c905-cb2c-48ef-9241-890073828fc2"
      },
      "execution_count": 146,
      "outputs": [
        {
          "output_type": "display_data",
          "data": {
            "text/plain": [
              "<Figure size 1728x576 with 4 Axes>"
            ],
            "image/png": "[encoded data removed]"
          },
          "metadata": {}
        }
      ]
    },
    {
      "cell_type": "markdown",
      "source": [
        "# Feature 이상치 확인&제거\n",
        "> 이상치 중 일부를 고위험군으로 분류하고 당장 치료가 필요한 경우로 판단하여 배제함(정상치 2배이상 등)"
      ],
      "metadata": {
        "id": "eyTdVba0a_NQ"
      }
    },
    {
      "cell_type": "markdown",
      "source": [
        "> 고령화로 인해 65세 이상은 검사 비율이 평균 4만에 비해 현저히 적음<br>\n",
        "> 65세 이상에서 이상 징후를 발견할 수도 있음"
      ],
      "metadata": {
        "id": "1ktMNQpFJaak"
      }
    },
    {
      "cell_type": "code",
      "source": [
        "df['연령대'].value_counts()"
      ],
      "metadata": {
        "colab": {
          "base_uri": "https://localhost:8080/"
        },
        "id": "81LJWnZgdch0",
        "outputId": "59870559-ef02-4467-f89f-899b301d49e7"
      },
      "execution_count": 147,
      "outputs": [
        {
          "output_type": "execute_result",
          "data": {
            "text/plain": [
              "60    88721\n",
              "40    84677\n",
              "50    47883\n",
              "45    46447\n",
              "55    45541\n",
              "65    32252\n",
              "70    23432\n",
              "80    15621\n",
              "75    15413\n",
              "Name: 연령대, dtype: int64"
            ]
          },
          "metadata": {},
          "execution_count": 147
        }
      ]
    },
    {
      "cell_type": "markdown",
      "source": [
        "BMI의 경우 나이에 따라 약간의 차이가 있지만 40대 이상은 25 이상을 과체중으로 설정\n",
        "> BMI를 보면 여성보다 남성이 더 위험비율이 많다\n",
        "> 하지만 허리둘레 즉, 복부비만은 여성이 더 많다.<br>\n",
        "  (여성의 경우 폐경기 이후에는 다른 부위보다 복부에 지방이 잘 쌓인다고 함)\n",
        "\n",
        "> 여성의 호르몬까지 고려하여 허리둘레를 고려한다면<br>\n",
        "> 비만인 인구는 남성이 더 많다고 할 수 있다."
      ],
      "metadata": {
        "id": "J-8-fHQ1Odq9"
      }
    },
    {
      "cell_type": "code",
      "source": [
        "fig, emp_df, emp_df_male, emp_df_female = plt.figure(figsize=(23,6)), df.copy(), df[ df['성별'] ==1].copy(), df[ df['성별'] ==2].copy()\n",
        "plt.subplot(1,3,1)\n",
        "sns.histplot(emp_df['BMI'])\n",
        "plt.title('기존 BMI')\n",
        "\n",
        "print( len( df[df['BMI'] > 40] ) ) # BMI 30 이상이 위험군이기에 40 초과는 수도 적고 너무 위험군으로 제거함\n",
        "df = df[df['BMI'] < 40]\n",
        "\n",
        "plt.subplot(1,3,2)\n",
        "sns.histplot(emp_df_male['BMI'])\n",
        "plt.axvline(25, color='red')\n",
        "plt.title('남성 BMI')\n",
        "\n",
        "plt.subplot(1,3,3)\n",
        "sns.histplot(emp_df_female['BMI'])\n",
        "plt.axvline(25, color='red')\n",
        "plt.title('여성 BMI');"
      ],
      "metadata": {
        "colab": {
          "base_uri": "https://localhost:8080/",
          "height": 420
        },
        "id": "Q03NJ9iId0gR",
        "outputId": "08ce69b9-26b9-4310-a28a-6a916b498c97"
      },
      "execution_count": 148,
      "outputs": [
        {
          "output_type": "stream",
          "name": "stdout",
          "text": [
            "330\n"
          ]
        },
        {
          "output_type": "display_data",
          "data": {
            "text/plain": [
              "<Figure size 1656x432 with 3 Axes>"
            ],
            "image/png": "[encoded data removed]"
          },
          "metadata": {
            "needs_background": "light"
          }
        }
      ]
    },
    {
      "cell_type": "code",
      "source": [
        "fig, emp_df, emp_df_male, emp_df_female = plt.figure(figsize=(23,6)), df.copy(), df[ df['성별'] ==1].copy(), df[ df['성별'] ==2].copy()\n",
        "\n",
        "plt.subplot(1,3,1)\n",
        "sns.histplot(emp_df['허리둘레'])\n",
        "plt.title('기존 허리둘레')\n",
        "\n",
        "print( len( (df[df['허리둘레'] > 120]) + (df[df['허리둘레'] < 50]) ) ) # 허리둘레는 남성이 90, 여성이 85가 넘으면 복부비만으로 120 초과는 고위험군이기에 제거, 50이하는 3명뿐이기에 제거\n",
        "df = df[ (df['허리둘레']<120) & (df['허리둘레'] > 50) ]\n",
        "\n",
        "plt.subplot(1,3,2)\n",
        "sns.histplot(emp_df_male['허리둘레'])\n",
        "plt.axvline(95, color='red')\n",
        "plt.title('남성 허리둘레')\n",
        "\n",
        "plt.subplot(1,3,3)\n",
        "sns.histplot(emp_df_female['허리둘레'])\n",
        "plt.axvline(85, color='red')\n",
        "plt.title('여성 허리둘레');"
      ],
      "metadata": {
        "colab": {
          "base_uri": "https://localhost:8080/",
          "height": 420
        },
        "id": "-5iwdcG8g0Yk",
        "outputId": "0a81f560-491f-4dfc-847d-331e2ee2815e"
      },
      "execution_count": 149,
      "outputs": [
        {
          "output_type": "stream",
          "name": "stdout",
          "text": [
            "104\n"
          ]
        },
        {
          "output_type": "display_data",
          "data": {
            "text/plain": [
              "<Figure size 1656x432 with 3 Axes>"
            ],
            "image/png": "[encoded data removed]"
          },
          "metadata": {
            "needs_background": "light"
          }
        }
      ]
    },
    {
      "cell_type": "markdown",
      "source": [
        "생활습관 중 흡연과 음주 비율\n",
        "> 흡연자가 적기에 질병 발병이 적을 수 있다<br>\n",
        "> 추후 흡연자와 비흡연자의 비교도 필요함\n",
        "\n",
        "> 음주의 비율은 거의 비슷한 상황이기에<br>\n",
        "> 술은 설정 질병에 영향을 못 줄 수도 있다."
      ],
      "metadata": {
        "id": "fAE92bZwLwOf"
      }
    },
    {
      "cell_type": "code",
      "source": [
        "df['흡연'].value_counts() # 비흡연자 25만 vs 흡연 15만으로 적절하다고 판단"
      ],
      "metadata": {
        "colab": {
          "base_uri": "https://localhost:8080/"
        },
        "id": "z4zZx5B-g8zv",
        "outputId": "b6ac7ae5-1122-4b9e-b81a-3b38698ea634"
      },
      "execution_count": 150,
      "outputs": [
        {
          "output_type": "execute_result",
          "data": {
            "text/plain": [
              "1    255832\n",
              "2     73845\n",
              "3     69774\n",
              "Name: 흡연, dtype: int64"
            ]
          },
          "metadata": {},
          "execution_count": 150
        }
      ]
    },
    {
      "cell_type": "code",
      "source": [
        "df['음주'].value_counts() # 적절한 비율로 판단"
      ],
      "metadata": {
        "colab": {
          "base_uri": "https://localhost:8080/"
        },
        "id": "z9CRxoFxhGF0",
        "outputId": "e8ade146-9bb8-4eec-fa4e-e3fdadf3ea7e"
      },
      "execution_count": 151,
      "outputs": [
        {
          "output_type": "execute_result",
          "data": {
            "text/plain": [
              "1    229298\n",
              "0    170153\n",
              "Name: 음주, dtype: int64"
            ]
          },
          "metadata": {},
          "execution_count": 151
        }
      ]
    },
    {
      "cell_type": "code",
      "source": [
        "df['단백뇨'].value_counts() # 38만 vs 1만 3천으로 불균형 - 해석 시 고려사항"
      ],
      "metadata": {
        "colab": {
          "base_uri": "https://localhost:8080/"
        },
        "id": "EQxyhhwXhOru",
        "outputId": "08f273d3-76bc-49c0-8cf5-5354a91c10f5"
      },
      "execution_count": 152,
      "outputs": [
        {
          "output_type": "execute_result",
          "data": {
            "text/plain": [
              "0       385542\n",
              "30        9290\n",
              "100       3298\n",
              "300       1029\n",
              "1000       292\n",
              "Name: 단백뇨, dtype: int64"
            ]
          },
          "metadata": {},
          "execution_count": 152
        }
      ]
    },
    {
      "cell_type": "markdown",
      "source": [
        "혈청크레아티닌은 몸 속의 노폐물의 수치로 정상치 이상은 신장에 문제가 있다고 판단하지만<br>\n",
        "> 거의 대부분이 정상치이기에 비교가 어려울 것으로 예상"
      ],
      "metadata": {
        "id": "27z0J_MvTpa5"
      }
    },
    {
      "cell_type": "code",
      "source": [
        "fig, emp_df = plt.figure(figsize=(23,7)), df.copy()\n",
        "plt.subplot(1,2,1)\n",
        "sns.histplot(emp_df['혈청크레아티닌'])\n",
        "plt.title('기존 혈청크레아티닌')\n",
        "\n",
        "print( len( df[df['혈청크레아티닌'] > 3] ) ) # 0.8~1.7이 정상치, 3이상은 고위험군으로 제거\n",
        "df = df[df['혈청크레아티닌']<3]\n",
        "\n",
        "plt.subplot(1,2,2)\n",
        "sns.histplot(df['혈청크레아티닌'])\n",
        "plt.axvline(0.75, color='red')\n",
        "plt.axvline(1.75, color='red')\n",
        "plt.title('변경 혈청크레아티닌');"
      ],
      "metadata": {
        "colab": {
          "base_uri": "https://localhost:8080/",
          "height": 474
        },
        "id": "NTgkul8NiR4-",
        "outputId": "14537f35-1276-4896-e724-8a7380298a56"
      },
      "execution_count": 153,
      "outputs": [
        {
          "output_type": "stream",
          "name": "stdout",
          "text": [
            "545\n"
          ]
        },
        {
          "output_type": "display_data",
          "data": {
            "text/plain": [
              "<Figure size 1656x504 with 2 Axes>"
            ],
            "image/png": "[encoded data removed]"
          },
          "metadata": {
            "needs_background": "light"
          }
        }
      ]
    },
    {
      "cell_type": "markdown",
      "source": [
        "ALT는 비만에 민감한 수치이지만 대부분이 정상범주 내에 있음\n",
        "> 하지만 BMI나 허리둘레 인구와는 비슷한 비율을 보임"
      ],
      "metadata": {
        "id": "VLVqKpM4ULZb"
      }
    },
    {
      "cell_type": "code",
      "source": [
        "fig, emp_df = plt.figure(figsize=(23,7)), df.copy()\n",
        "plt.subplot(1,2,1)\n",
        "sns.histplot(emp_df['ALT'])\n",
        "plt.title('기존 ALT')\n",
        "\n",
        "print( len( df[df['ALT'] > 100] ) ) # 정상치가 0~40으로 정상치의 2배 이상은 고위험군으로 제거\n",
        "df = df[df['ALT'] < 100]\n",
        "\n",
        "plt.subplot(1,2,2)\n",
        "sns.histplot(df['ALT'])\n",
        "plt.axvline(40, color='red')\n",
        "plt.title('변경 ALT');"
      ],
      "metadata": {
        "colab": {
          "base_uri": "https://localhost:8080/",
          "height": 474
        },
        "id": "-vrla4WcjKfR",
        "outputId": "938bb133-c08d-4b5b-e4b2-b27ad1bcd430"
      },
      "execution_count": 154,
      "outputs": [
        {
          "output_type": "stream",
          "name": "stdout",
          "text": [
            "4401\n"
          ]
        },
        {
          "output_type": "display_data",
          "data": {
            "text/plain": [
              "<Figure size 1656x504 with 2 Axes>"
            ],
            "image/png": "[encoded data removed]"
          },
          "metadata": {
            "needs_background": "light"
          }
        }
      ]
    },
    {
      "cell_type": "code",
      "source": [
        "fig, emp_df = plt.figure(figsize=(23,7)), df.copy()\n",
        "plt.subplot(1,2,1)\n",
        "sns.histplot(emp_df['AST'])\n",
        "plt.title('기존 AST')\n",
        "\n",
        "print( len( df[df['AST'] > 100] ) ) # 정상치가 0~40으로 정상치의 2배 이상은 고위험군으로 제거\n",
        "df = df[df['AST'] < 100]\n",
        "\n",
        "plt.subplot(1,2,2)\n",
        "sns.histplot(df['AST'])\n",
        "plt.axvline(40, color='red')\n",
        "plt.title('변경 AST');"
      ],
      "metadata": {
        "colab": {
          "base_uri": "https://localhost:8080/",
          "height": 474
        },
        "id": "BlbsHHdyjcHv",
        "outputId": "e7d832f5-3b9f-4391-9275-3ef5283728db"
      },
      "execution_count": 155,
      "outputs": [
        {
          "output_type": "stream",
          "name": "stdout",
          "text": [
            "1053\n"
          ]
        },
        {
          "output_type": "display_data",
          "data": {
            "text/plain": [
              "<Figure size 1656x504 with 2 Axes>"
            ],
            "image/png": "[encoded data removed]"
          },
          "metadata": {
            "needs_background": "light"
          }
        }
      ]
    },
    {
      "cell_type": "markdown",
      "source": [
        "감마지피티의 경우 음주에 민감한 검진인데 많은 수가 남성의 최대 정상치인 63내에 있음<br>\n",
        "> 음주의 문답의 오류가 있을 수 있음<br>\n",
        "  (자존심으로 과장 대답, 달 1회 등 기한의 오류 등)"
      ],
      "metadata": {
        "id": "dVcnyjJyNFHa"
      }
    },
    {
      "cell_type": "code",
      "source": [
        "fig, emp_df = plt.figure(figsize=(23,7)), df.copy()\n",
        "plt.subplot(1,2,1)\n",
        "sns.histplot(emp_df['감마GTP'])\n",
        "plt.title('기존 감마GTP')\n",
        "\n",
        "print( len( df[df['감마GTP'] > 150] ) ) # 정상치 높은 남성이 11~63으로 정상치의 2배 이상은 고위험군으로 제거\n",
        "df = df[df['감마GTP'] < 150]\n",
        "\n",
        "plt.subplot(1,2,2)\n",
        "sns.histplot(df['감마GTP'])\n",
        "plt.axvline(63, color='red')\n",
        "plt.title('변경 감마GTP');"
      ],
      "metadata": {
        "colab": {
          "base_uri": "https://localhost:8080/",
          "height": 474
        },
        "id": "bntGZyGJj7il",
        "outputId": "1eba81ad-1ab0-42c7-b4ac-400347eba0e3"
      },
      "execution_count": 156,
      "outputs": [
        {
          "output_type": "stream",
          "name": "stdout",
          "text": [
            "8015\n"
          ]
        },
        {
          "output_type": "display_data",
          "data": {
            "text/plain": [
              "<Figure size 1656x504 with 2 Axes>"
            ],
            "image/png": "[encoded data removed]"
          },
          "metadata": {
            "needs_background": "light"
          }
        }
      ]
    },
    {
      "cell_type": "code",
      "source": [
        "df.reset_index(inplace=True)\n",
        "df = df.drop( 'index', axis=1 )\n",
        "\n",
        "print( df.shape )\n",
        "df.head(3)"
      ],
      "metadata": {
        "colab": {
          "base_uri": "https://localhost:8080/",
          "height": 161
        },
        "id": "AyOY-pp1j_5j",
        "outputId": "c9e4cc97-52ed-4b95-9776-4eead812a435"
      },
      "execution_count": 157,
      "outputs": [
        {
          "output_type": "stream",
          "name": "stdout",
          "text": [
            "(385123, 14)\n"
          ]
        },
        {
          "output_type": "execute_result",
          "data": {
            "text/plain": [
              "   성별  연령대    BMI  허리둘레  흡연  음주  단백뇨  혈청크레아티닌  AST  ALT  감마GTP  고혈압  당뇨  고지혈증\n",
              "0   1   40  22.04  72.1   1   0    0      1.1   21   27     21    0   0     0\n",
              "1   2   55  20.81  75.2   1   0    0      0.7   18   17     14    0   0     0\n",
              "2   1   40  24.84  94.0   3   1    0      1.1   25   32     26    0   0     0"
            ],
            "text/html": [
              "\n",
              "  <div id=\"df-07998c81-6a01-4719-92e4-b6cb123daf5a\">\n",
              "    <div class=\"colab-df-container\">\n",
              "      <div>\n",
              "<style scoped>\n",
              "    .dataframe tbody tr th:only-of-type {\n",
              "        vertical-align: middle;\n",
              "    }\n",
              "\n",
              "    .dataframe tbody tr th {\n",
              "        vertical-align: top;\n",
              "    }\n",
              "\n",
              "    .dataframe thead th {\n",
              "        text-align: right;\n",
              "    }\n",
              "</style>\n",
              "<table border=\"1\" class=\"dataframe\">\n",
              "  <thead>\n",
              "    <tr style=\"text-align: right;\">\n",
              "      <th></th>\n",
              "      <th>성별</th>\n",
              "      <th>연령대</th>\n",
              "      <th>BMI</th>\n",
              "      <th>허리둘레</th>\n",
              "      <th>흡연</th>\n",
              "      <th>음주</th>\n",
              "      <th>단백뇨</th>\n",
              "      <th>혈청크레아티닌</th>\n",
              "      <th>AST</th>\n",
              "      <th>ALT</th>\n",
              "      <th>감마GTP</th>\n",
              "      <th>고혈압</th>\n",
              "      <th>당뇨</th>\n",
              "      <th>고지혈증</th>\n",
              "    </tr>\n",
              "  </thead>\n",
              "  <tbody>\n",
              "    <tr>\n",
              "      <th>0</th>\n",
              "      <td>1</td>\n",
              "      <td>40</td>\n",
              "      <td>22.04</td>\n",
              "      <td>72.1</td>\n",
              "      <td>1</td>\n",
              "      <td>0</td>\n",
              "      <td>0</td>\n",
              "      <td>1.1</td>\n",
              "      <td>21</td>\n",
              "      <td>27</td>\n",
              "      <td>21</td>\n",
              "      <td>0</td>\n",
              "      <td>0</td>\n",
              "      <td>0</td>\n",
              "    </tr>\n",
              "    <tr>\n",
              "      <th>1</th>\n",
              "      <td>2</td>\n",
              "      <td>55</td>\n",
              "      <td>20.81</td>\n",
              "      <td>75.2</td>\n",
              "      <td>1</td>\n",
              "      <td>0</td>\n",
              "      <td>0</td>\n",
              "      <td>0.7</td>\n",
              "      <td>18</td>\n",
              "      <td>17</td>\n",
              "      <td>14</td>\n",
              "      <td>0</td>\n",
              "      <td>0</td>\n",
              "      <td>0</td>\n",
              "    </tr>\n",
              "    <tr>\n",
              "      <th>2</th>\n",
              "      <td>1</td>\n",
              "      <td>40</td>\n",
              "      <td>24.84</td>\n",
              "      <td>94.0</td>\n",
              "      <td>3</td>\n",
              "      <td>1</td>\n",
              "      <td>0</td>\n",
              "      <td>1.1</td>\n",
              "      <td>25</td>\n",
              "      <td>32</td>\n",
              "      <td>26</td>\n",
              "      <td>0</td>\n",
              "      <td>0</td>\n",
              "      <td>0</td>\n",
              "    </tr>\n",
              "  </tbody>\n",
              "</table>\n",
              "</div>\n",
              "      <button class=\"colab-df-convert\" onclick=\"convertToInteractive('df-07998c81-6a01-4719-92e4-b6cb123daf5a')\"\n",
              "              title=\"Convert this dataframe to an interactive table.\"\n",
              "              style=\"display:none;\">\n",
              "        \n",
              "  <svg xmlns=\"http://www.w3.org/2000/svg\" height=\"24px\"viewBox=\"0 0 24 24\"\n",
              "       width=\"24px\">\n",
              "    <path d=\"M0 0h24v24H0V0z\" fill=\"none\"/>\n",
              "    <path d=\"M18.56 5.44l.94 2.06.94-2.06 2.06-.94-2.06-.94-.94-2.06-.94 2.06-2.06.94zm-11 1L8.5 8.5l.94-2.06 2.06-.94-2.06-.94L8.5 2.5l-.94 2.06-2.06.94zm10 10l.94 2.06.94-2.06 2.06-.94-2.06-.94-.94-2.06-.94 2.06-2.06.94z\"/><path d=\"M17.41 7.96l-1.37-1.37c-.4-.4-.92-.59-1.43-.59-.52 0-1.04.2-1.43.59L10.3 9.45l-7.72 7.72c-.78.78-.78 2.05 0 2.83L4 21.41c.39.39.9.59 1.41.59.51 0 1.02-.2 1.41-.59l7.78-7.78 2.81-2.81c.8-.78.8-2.07 0-2.86zM5.41 20L4 18.59l7.72-7.72 1.47 1.35L5.41 20z\"/>\n",
              "  </svg>\n",
              "      </button>\n",
              "      \n",
              "  <style>\n",
              "    .colab-df-container {\n",
              "      display:flex;\n",
              "      flex-wrap:wrap;\n",
              "      gap: 12px;\n",
              "    }\n",
              "\n",
              "    .colab-df-convert {\n",
              "      background-color: #E8F0FE;\n",
              "      border: none;\n",
              "      border-radius: 50%;\n",
              "      cursor: pointer;\n",
              "      display: none;\n",
              "      fill: #1967D2;\n",
              "      height: 32px;\n",
              "      padding: 0 0 0 0;\n",
              "      width: 32px;\n",
              "    }\n",
              "\n",
              "    .colab-df-convert:hover {\n",
              "      background-color: #E2EBFA;\n",
              "      box-shadow: 0px 1px 2px rgba(60, 64, 67, 0.3), 0px 1px 3px 1px rgba(60, 64, 67, 0.15);\n",
              "      fill: #174EA6;\n",
              "    }\n",
              "\n",
              "    [theme=dark] .colab-df-convert {\n",
              "      background-color: #3B4455;\n",
              "      fill: #D2E3FC;\n",
              "    }\n",
              "\n",
              "    [theme=dark] .colab-df-convert:hover {\n",
              "      background-color: #434B5C;\n",
              "      box-shadow: 0px 1px 3px 1px rgba(0, 0, 0, 0.15);\n",
              "      filter: drop-shadow(0px 1px 2px rgba(0, 0, 0, 0.3));\n",
              "      fill: #FFFFFF;\n",
              "    }\n",
              "  </style>\n",
              "\n",
              "      <script>\n",
              "        const buttonEl =\n",
              "          document.querySelector('#df-07998c81-6a01-4719-92e4-b6cb123daf5a button.colab-df-convert');\n",
              "        buttonEl.style.display =\n",
              "          google.colab.kernel.accessAllowed ? 'block' : 'none';\n",
              "\n",
              "        async function convertToInteractive(key) {\n",
              "          const element = document.querySelector('#df-07998c81-6a01-4719-92e4-b6cb123daf5a');\n",
              "          const dataTable =\n",
              "            await google.colab.kernel.invokeFunction('convertToInteractive',\n",
              "                                                     [key], {});\n",
              "          if (!dataTable) return;\n",
              "\n",
              "          const docLinkHtml = 'Like what you see? Visit the ' +\n",
              "            '<a target=\"_blank\" href=https://colab.research.google.com/notebooks/data_table.ipynb>data table notebook</a>'\n",
              "            + ' to learn more about interactive tables.';\n",
              "          element.innerHTML = '';\n",
              "          dataTable['output_type'] = 'display_data';\n",
              "          await google.colab.output.renderOutput(dataTable, element);\n",
              "          const docLink = document.createElement('div');\n",
              "          docLink.innerHTML = docLinkHtml;\n",
              "          element.appendChild(docLink);\n",
              "        }\n",
              "      </script>\n",
              "    </div>\n",
              "  </div>\n",
              "  "
            ]
          },
          "metadata": {},
          "execution_count": 157
        }
      ]
    },
    {
      "cell_type": "code",
      "source": [
        "df.to_csv('38만_검진정보.csv', index=False) # 전처리 종료"
      ],
      "metadata": {
        "id": "1zado_k2K3-_"
      },
      "execution_count": 158,
      "outputs": []
    },
    {
      "cell_type": "markdown",
      "source": [
        "\n",
        "\n",
        "---\n",
        "\n"
      ],
      "metadata": {
        "id": "ETQOTmF3iH_Y"
      }
    },
    {
      "cell_type": "markdown",
      "source": [
        "# 데이터 분리"
      ],
      "metadata": {
        "id": "8785ANRg_dbX"
      }
    },
    {
      "cell_type": "code",
      "source": [
        "train , val = train_test_split( df[ df['성별'] == 1].copy(), test_size=0.2 )\n",
        "target = '당뇨' # ['고혈압 - 5%','당뇨 - 10%','고지혈증 - 10%']\n",
        "\n",
        "def X_y_split(df):\n",
        "  X = df.drop(target, axis=1)\n",
        "  y = df[target]\n",
        "  return X, y\n",
        "\n",
        "X_train, y_train = X_y_split(train)\n",
        "X_val, y_val = X_y_split(val)"
      ],
      "metadata": {
        "id": "KGa8eLRaM4w4"
      },
      "execution_count": 159,
      "outputs": []
    },
    {
      "cell_type": "markdown",
      "source": [
        "# 기본 모델링 - 트리"
      ],
      "metadata": {
        "id": "TXrwZkTAeWR5"
      }
    },
    {
      "cell_type": "code",
      "source": [
        "base = y_train.mode()[0]\n",
        "baseline = len(y_train) * [base]\n",
        "baseline_acc = accuracy_score(y_train, baseline)\n",
        "print(f'기준모델의 정확도는 {baseline_acc.round(3)} 입니다')"
      ],
      "metadata": {
        "colab": {
          "base_uri": "https://localhost:8080/"
        },
        "id": "SDLvcNQBA8Qz",
        "outputId": "113ba800-b5ef-48e8-af09-ca8cdff3ffd6"
      },
      "execution_count": 160,
      "outputs": [
        {
          "output_type": "stream",
          "name": "stdout",
          "text": [
            "기준모델의 정확도는 0.872 입니다\n"
          ]
        }
      ]
    },
    {
      "cell_type": "code",
      "source": [
        "tree_model = DecisionTreeClassifier(random_state=42, criterion=\"entropy\", max_depth=10)\n",
        "tree_model.fit(X_train, y_train)\n",
        "\n",
        "print(\"훈련 정확도\", tree_model.score(X_train, y_train).round(2))\n",
        "print(\"검증 정확도\", tree_model.score(X_val, y_val).round(2))\n",
        "\n",
        "y_pred = tree_model.predict(X_val)\n",
        "print(classification_report(y_val, y_pred))"
      ],
      "metadata": {
        "colab": {
          "base_uri": "https://localhost:8080/"
        },
        "id": "XAcl35CoBGh0",
        "outputId": "1feb4aec-0474-4833-a1eb-65b7ea927065"
      },
      "execution_count": 161,
      "outputs": [
        {
          "output_type": "stream",
          "name": "stdout",
          "text": [
            "훈련 정확도 0.88\n",
            "검증 정확도 0.87\n",
            "              precision    recall  f1-score   support\n",
            "\n",
            "           0       0.87      0.99      0.93     32127\n",
            "           1       0.37      0.03      0.05      4830\n",
            "\n",
            "    accuracy                           0.87     36957\n",
            "   macro avg       0.62      0.51      0.49     36957\n",
            "weighted avg       0.81      0.87      0.81     36957\n",
            "\n"
          ]
        }
      ]
    },
    {
      "cell_type": "code",
      "source": [
        "dot_data = export_graphviz(tree_model,\n",
        "                           max_depth=2,\n",
        "                           feature_names=X_val.columns,\n",
        "                           filled=True,\n",
        "                           proportion=True)\n",
        "display(graphviz.Source(dot_data))\n",
        "\n",
        "graphviz.Source(dot_data).render('tree', format=\"png\")"
      ],
      "metadata": {
        "colab": {
          "base_uri": "https://localhost:8080/",
          "height": 514
        },
        "id": "wo7JyXTFBpHe",
        "outputId": "c3ab4298-5be6-456f-e737-ddcff4afa81f"
      },
      "execution_count": 162,
      "outputs": [
        {
          "output_type": "display_data",
          "data": {
            "text/plain": [
              "<graphviz.files.Source at 0x7f735c921f90>"
            ],
            "image/svg+xml": "<?xml version=\"1.0\" encoding=\"UTF-8\" standalone=\"no\"?>\n<!DOCTYPE svg PUBLIC \"-//W3C//DTD SVG 1.1//EN\"\n \"http://www.w3.org/Graphics/SVG/1.1/DTD/svg11.dtd\">\n<!-- Generated by graphviz version 2.40.1 (20161225.0304)\n -->\n<!-- Title: Tree Pages: 1 -->\n<svg width=\"686pt\" height=\"356pt\"\n viewBox=\"0.00 0.00 686.00 356.00\" xmlns=\"http://www.w3.org/2000/svg\" xmlns:xlink=\"http://www.w3.org/1999/xlink\">\n<g id=\"graph0\" class=\"graph\" transform=\"scale(1 1) rotate(0) translate(4 352)\">\n<title>Tree</title>\n<polygon fill=\"#ffffff\" stroke=\"transparent\" points=\"-4,4 -4,-352 682,-352 682,4 -4,4\"/>\n<!-- 0 -->\n<g id=\"node1\" class=\"node\">\n<title>0</title>\n<polygon fill=\"#e99356\" stroke=\"#000000\" points=\"417,-348 261,-348 261,-280 417,-280 417,-348\"/>\n<text text-anchor=\"middle\" x=\"339\" y=\"-332.8\" font-family=\"Helvetica,sans-Serif\" font-size=\"14.00\" fill=\"#000000\">연령대 &lt;= 47.5</text>\n<text text-anchor=\"middle\" x=\"339\" y=\"-317.8\" font-family=\"Helvetica,sans-Serif\" font-size=\"14.00\" fill=\"#000000\">entropy = 0.552</text>\n<text text-anchor=\"middle\" x=\"339\" y=\"-302.8\" font-family=\"Helvetica,sans-Serif\" font-size=\"14.00\" fill=\"#000000\">samples = 100.0%</text>\n<text text-anchor=\"middle\" x=\"339\" y=\"-287.8\" font-family=\"Helvetica,sans-Serif\" font-size=\"14.00\" fill=\"#000000\">value = [0.872, 0.128]</text>\n</g>\n<!-- 1 -->\n<g id=\"node2\" class=\"node\">\n<title>1</title>\n<polygon fill=\"#e78b49\" stroke=\"#000000\" points=\"330,-244 174,-244 174,-176 330,-176 330,-244\"/>\n<text text-anchor=\"middle\" x=\"252\" y=\"-228.8\" font-family=\"Helvetica,sans-Serif\" font-size=\"14.00\" fill=\"#000000\">감마GTP &lt;= 35.5</text>\n<text text-anchor=\"middle\" x=\"252\" y=\"-213.8\" font-family=\"Helvetica,sans-Serif\" font-size=\"14.00\" fill=\"#000000\">entropy = 0.38</text>\n<text text-anchor=\"middle\" x=\"252\" y=\"-198.8\" font-family=\"Helvetica,sans-Serif\" font-size=\"14.00\" fill=\"#000000\">samples = 34.7%</text>\n<text text-anchor=\"middle\" x=\"252\" y=\"-183.8\" font-family=\"Helvetica,sans-Serif\" font-size=\"14.00\" fill=\"#000000\">value = [0.926, 0.074]</text>\n</g>\n<!-- 0&#45;&gt;1 -->\n<g id=\"edge1\" class=\"edge\">\n<title>0&#45;&gt;1</title>\n<path fill=\"none\" stroke=\"#000000\" d=\"M310.5129,-279.9465C303.0021,-270.968 294.8105,-261.1758 286.9995,-251.8385\"/>\n<polygon fill=\"#000000\" stroke=\"#000000\" points=\"289.652,-249.5544 280.5511,-244.13 284.2829,-254.0459 289.652,-249.5544\"/>\n<text text-anchor=\"middle\" x=\"278.3347\" y=\"-265.3316\" font-family=\"Helvetica,sans-Serif\" font-size=\"14.00\" fill=\"#000000\">True</text>\n</g>\n<!-- 624 -->\n<g id=\"node9\" class=\"node\">\n<title>624</title>\n<polygon fill=\"#ea985e\" stroke=\"#000000\" points=\"504,-244 348,-244 348,-176 504,-176 504,-244\"/>\n<text text-anchor=\"middle\" x=\"426\" y=\"-228.8\" font-family=\"Helvetica,sans-Serif\" font-size=\"14.00\" fill=\"#000000\">감마GTP &lt;= 38.5</text>\n<text text-anchor=\"middle\" x=\"426\" y=\"-213.8\" font-family=\"Helvetica,sans-Serif\" font-size=\"14.00\" fill=\"#000000\">entropy = 0.626</text>\n<text text-anchor=\"middle\" x=\"426\" y=\"-198.8\" font-family=\"Helvetica,sans-Serif\" font-size=\"14.00\" fill=\"#000000\">samples = 65.3%</text>\n<text text-anchor=\"middle\" x=\"426\" y=\"-183.8\" font-family=\"Helvetica,sans-Serif\" font-size=\"14.00\" fill=\"#000000\">value = [0.843, 0.157]</text>\n</g>\n<!-- 0&#45;&gt;624 -->\n<g id=\"edge8\" class=\"edge\">\n<title>0&#45;&gt;624</title>\n<path fill=\"none\" stroke=\"#000000\" d=\"M367.4871,-279.9465C374.9979,-270.968 383.1895,-261.1758 391.0005,-251.8385\"/>\n<polygon fill=\"#000000\" stroke=\"#000000\" points=\"393.7171,-254.0459 397.4489,-244.13 388.348,-249.5544 393.7171,-254.0459\"/>\n<text text-anchor=\"middle\" x=\"399.6653\" y=\"-265.3316\" font-family=\"Helvetica,sans-Serif\" font-size=\"14.00\" fill=\"#000000\">False</text>\n</g>\n<!-- 2 -->\n<g id=\"node3\" class=\"node\">\n<title>2</title>\n<polygon fill=\"#e68742\" stroke=\"#000000\" points=\"156,-140 0,-140 0,-72 156,-72 156,-140\"/>\n<text text-anchor=\"middle\" x=\"78\" y=\"-124.8\" font-family=\"Helvetica,sans-Serif\" font-size=\"14.00\" fill=\"#000000\">BMI &lt;= 27.2</text>\n<text text-anchor=\"middle\" x=\"78\" y=\"-109.8\" font-family=\"Helvetica,sans-Serif\" font-size=\"14.00\" fill=\"#000000\">entropy = 0.264</text>\n<text text-anchor=\"middle\" x=\"78\" y=\"-94.8\" font-family=\"Helvetica,sans-Serif\" font-size=\"14.00\" fill=\"#000000\">samples = 18.4%</text>\n<text text-anchor=\"middle\" x=\"78\" y=\"-79.8\" font-family=\"Helvetica,sans-Serif\" font-size=\"14.00\" fill=\"#000000\">value = [0.955, 0.045]</text>\n</g>\n<!-- 1&#45;&gt;2 -->\n<g id=\"edge2\" class=\"edge\">\n<title>1&#45;&gt;2</title>\n<path fill=\"none\" stroke=\"#000000\" d=\"M195.0259,-175.9465C178.6522,-166.1599 160.6611,-155.4066 143.8011,-145.3294\"/>\n<polygon fill=\"#000000\" stroke=\"#000000\" points=\"145.4814,-142.2562 135.1021,-140.13 141.8901,-148.2648 145.4814,-142.2562\"/>\n</g>\n<!-- 315 -->\n<g id=\"node6\" class=\"node\">\n<title>315</title>\n<polygon fill=\"#e89051\" stroke=\"#000000\" points=\"330,-140 174,-140 174,-72 330,-72 330,-140\"/>\n<text text-anchor=\"middle\" x=\"252\" y=\"-124.8\" font-family=\"Helvetica,sans-Serif\" font-size=\"14.00\" fill=\"#000000\">단백뇨 &lt;= 15.0</text>\n<text text-anchor=\"middle\" x=\"252\" y=\"-109.8\" font-family=\"Helvetica,sans-Serif\" font-size=\"14.00\" fill=\"#000000\">entropy = 0.49</text>\n<text text-anchor=\"middle\" x=\"252\" y=\"-94.8\" font-family=\"Helvetica,sans-Serif\" font-size=\"14.00\" fill=\"#000000\">samples = 16.3%</text>\n<text text-anchor=\"middle\" x=\"252\" y=\"-79.8\" font-family=\"Helvetica,sans-Serif\" font-size=\"14.00\" fill=\"#000000\">value = [0.893, 0.107]</text>\n</g>\n<!-- 1&#45;&gt;315 -->\n<g id=\"edge5\" class=\"edge\">\n<title>1&#45;&gt;315</title>\n<path fill=\"none\" stroke=\"#000000\" d=\"M252,-175.9465C252,-167.776 252,-158.9318 252,-150.3697\"/>\n<polygon fill=\"#000000\" stroke=\"#000000\" points=\"255.5001,-150.13 252,-140.13 248.5001,-150.13 255.5001,-150.13\"/>\n</g>\n<!-- 3 -->\n<g id=\"node4\" class=\"node\">\n<title>3</title>\n<polygon fill=\"#c0c0c0\" stroke=\"#000000\" points=\"79,-36 25,-36 25,0 79,0 79,-36\"/>\n<text text-anchor=\"middle\" x=\"52\" y=\"-14.3\" font-family=\"Helvetica,sans-Serif\" font-size=\"14.00\" fill=\"#000000\">(...)</text>\n</g>\n<!-- 2&#45;&gt;3 -->\n<g id=\"edge3\" class=\"edge\">\n<title>2&#45;&gt;3</title>\n<path fill=\"none\" stroke=\"#000000\" d=\"M67.9477,-71.9769C65.3876,-63.3119 62.6665,-54.102 60.2105,-45.7894\"/>\n<polygon fill=\"#000000\" stroke=\"#000000\" points=\"63.565,-44.7904 57.3749,-36.192 56.8519,-46.7739 63.565,-44.7904\"/>\n</g>\n<!-- 166 -->\n<g id=\"node5\" class=\"node\">\n<title>166</title>\n<polygon fill=\"#c0c0c0\" stroke=\"#000000\" points=\"151,-36 97,-36 97,0 151,0 151,-36\"/>\n<text text-anchor=\"middle\" x=\"124\" y=\"-14.3\" font-family=\"Helvetica,sans-Serif\" font-size=\"14.00\" fill=\"#000000\">(...)</text>\n</g>\n<!-- 2&#45;&gt;166 -->\n<g id=\"edge4\" class=\"edge\">\n<title>2&#45;&gt;166</title>\n<path fill=\"none\" stroke=\"#000000\" d=\"M95.7848,-71.9769C100.4138,-63.1215 105.3403,-53.6969 109.7595,-45.2427\"/>\n<polygon fill=\"#000000\" stroke=\"#000000\" points=\"112.9598,-46.6756 114.4906,-36.192 106.7562,-43.4328 112.9598,-46.6756\"/>\n</g>\n<!-- 316 -->\n<g id=\"node7\" class=\"node\">\n<title>316</title>\n<polygon fill=\"#c0c0c0\" stroke=\"#000000\" points=\"236,-36 182,-36 182,0 236,0 236,-36\"/>\n<text text-anchor=\"middle\" x=\"209\" y=\"-14.3\" font-family=\"Helvetica,sans-Serif\" font-size=\"14.00\" fill=\"#000000\">(...)</text>\n</g>\n<!-- 315&#45;&gt;316 -->\n<g id=\"edge6\" class=\"edge\">\n<title>315&#45;&gt;316</title>\n<path fill=\"none\" stroke=\"#000000\" d=\"M235.3751,-71.9769C231.048,-63.1215 226.4428,-53.6969 222.3118,-45.2427\"/>\n<polygon fill=\"#000000\" stroke=\"#000000\" points=\"225.4242,-43.6401 217.8892,-36.192 219.1349,-46.7133 225.4242,-43.6401\"/>\n</g>\n<!-- 525 -->\n<g id=\"node8\" class=\"node\">\n<title>525</title>\n<polygon fill=\"#c0c0c0\" stroke=\"#000000\" points=\"308,-36 254,-36 254,0 308,0 308,-36\"/>\n<text text-anchor=\"middle\" x=\"281\" y=\"-14.3\" font-family=\"Helvetica,sans-Serif\" font-size=\"14.00\" fill=\"#000000\">(...)</text>\n</g>\n<!-- 315&#45;&gt;525 -->\n<g id=\"edge7\" class=\"edge\">\n<title>315&#45;&gt;525</title>\n<path fill=\"none\" stroke=\"#000000\" d=\"M263.2122,-71.9769C266.0677,-63.3119 269.1028,-54.102 271.8421,-45.7894\"/>\n<polygon fill=\"#000000\" stroke=\"#000000\" points=\"275.1991,-46.785 275.0049,-36.192 268.5508,-44.594 275.1991,-46.785\"/>\n</g>\n<!-- 625 -->\n<g id=\"node10\" class=\"node\">\n<title>625</title>\n<polygon fill=\"#e99457\" stroke=\"#000000\" points=\"504,-140 348,-140 348,-72 504,-72 504,-140\"/>\n<text text-anchor=\"middle\" x=\"426\" y=\"-124.8\" font-family=\"Helvetica,sans-Serif\" font-size=\"14.00\" fill=\"#000000\">단백뇨 &lt;= 15.0</text>\n<text text-anchor=\"middle\" x=\"426\" y=\"-109.8\" font-family=\"Helvetica,sans-Serif\" font-size=\"14.00\" fill=\"#000000\">entropy = 0.565</text>\n<text text-anchor=\"middle\" x=\"426\" y=\"-94.8\" font-family=\"Helvetica,sans-Serif\" font-size=\"14.00\" fill=\"#000000\">samples = 43.4%</text>\n<text text-anchor=\"middle\" x=\"426\" y=\"-79.8\" font-family=\"Helvetica,sans-Serif\" font-size=\"14.00\" fill=\"#000000\">value = [0.867, 0.133]</text>\n</g>\n<!-- 624&#45;&gt;625 -->\n<g id=\"edge9\" class=\"edge\">\n<title>624&#45;&gt;625</title>\n<path fill=\"none\" stroke=\"#000000\" d=\"M426,-175.9465C426,-167.776 426,-158.9318 426,-150.3697\"/>\n<polygon fill=\"#000000\" stroke=\"#000000\" points=\"429.5001,-150.13 426,-140.13 422.5001,-150.13 429.5001,-150.13\"/>\n</g>\n<!-- 1042 -->\n<g id=\"node13\" class=\"node\">\n<title>1042</title>\n<polygon fill=\"#eca16c\" stroke=\"#000000\" points=\"678,-140 522,-140 522,-72 678,-72 678,-140\"/>\n<text text-anchor=\"middle\" x=\"600\" y=\"-124.8\" font-family=\"Helvetica,sans-Serif\" font-size=\"14.00\" fill=\"#000000\">단백뇨 &lt;= 15.0</text>\n<text text-anchor=\"middle\" x=\"600\" y=\"-109.8\" font-family=\"Helvetica,sans-Serif\" font-size=\"14.00\" fill=\"#000000\">entropy = 0.731</text>\n<text text-anchor=\"middle\" x=\"600\" y=\"-94.8\" font-family=\"Helvetica,sans-Serif\" font-size=\"14.00\" fill=\"#000000\">samples = 21.8%</text>\n<text text-anchor=\"middle\" x=\"600\" y=\"-79.8\" font-family=\"Helvetica,sans-Serif\" font-size=\"14.00\" fill=\"#000000\">value = [0.796, 0.204]</text>\n</g>\n<!-- 624&#45;&gt;1042 -->\n<g id=\"edge12\" class=\"edge\">\n<title>624&#45;&gt;1042</title>\n<path fill=\"none\" stroke=\"#000000\" d=\"M482.9741,-175.9465C499.3478,-166.1599 517.3389,-155.4066 534.1989,-145.3294\"/>\n<polygon fill=\"#000000\" stroke=\"#000000\" points=\"536.1099,-148.2648 542.8979,-140.13 532.5186,-142.2562 536.1099,-148.2648\"/>\n</g>\n<!-- 626 -->\n<g id=\"node11\" class=\"node\">\n<title>626</title>\n<polygon fill=\"#c0c0c0\" stroke=\"#000000\" points=\"407,-36 353,-36 353,0 407,0 407,-36\"/>\n<text text-anchor=\"middle\" x=\"380\" y=\"-14.3\" font-family=\"Helvetica,sans-Serif\" font-size=\"14.00\" fill=\"#000000\">(...)</text>\n</g>\n<!-- 625&#45;&gt;626 -->\n<g id=\"edge10\" class=\"edge\">\n<title>625&#45;&gt;626</title>\n<path fill=\"none\" stroke=\"#000000\" d=\"M408.2152,-71.9769C403.5862,-63.1215 398.6597,-53.6969 394.2405,-45.2427\"/>\n<polygon fill=\"#000000\" stroke=\"#000000\" points=\"397.2438,-43.4328 389.5094,-36.192 391.0402,-46.6756 397.2438,-43.4328\"/>\n</g>\n<!-- 869 -->\n<g id=\"node12\" class=\"node\">\n<title>869</title>\n<polygon fill=\"#c0c0c0\" stroke=\"#000000\" points=\"479,-36 425,-36 425,0 479,0 479,-36\"/>\n<text text-anchor=\"middle\" x=\"452\" y=\"-14.3\" font-family=\"Helvetica,sans-Serif\" font-size=\"14.00\" fill=\"#000000\">(...)</text>\n</g>\n<!-- 625&#45;&gt;869 -->\n<g id=\"edge11\" class=\"edge\">\n<title>625&#45;&gt;869</title>\n<path fill=\"none\" stroke=\"#000000\" d=\"M436.0523,-71.9769C438.6124,-63.3119 441.3335,-54.102 443.7895,-45.7894\"/>\n<polygon fill=\"#000000\" stroke=\"#000000\" points=\"447.1481,-46.7739 446.6251,-36.192 440.435,-44.7904 447.1481,-46.7739\"/>\n</g>\n<!-- 1043 -->\n<g id=\"node14\" class=\"node\">\n<title>1043</title>\n<polygon fill=\"#c0c0c0\" stroke=\"#000000\" points=\"591,-36 537,-36 537,0 591,0 591,-36\"/>\n<text text-anchor=\"middle\" x=\"564\" y=\"-14.3\" font-family=\"Helvetica,sans-Serif\" font-size=\"14.00\" fill=\"#000000\">(...)</text>\n</g>\n<!-- 1042&#45;&gt;1043 -->\n<g id=\"edge13\" class=\"edge\">\n<title>1042&#45;&gt;1043</title>\n<path fill=\"none\" stroke=\"#000000\" d=\"M586.0815,-71.9769C582.4977,-63.2167 578.6862,-53.8995 575.2564,-45.5157\"/>\n<polygon fill=\"#000000\" stroke=\"#000000\" points=\"578.468,-44.1222 571.4422,-36.192 571.9891,-46.7727 578.468,-44.1222\"/>\n</g>\n<!-- 1252 -->\n<g id=\"node15\" class=\"node\">\n<title>1252</title>\n<polygon fill=\"#c0c0c0\" stroke=\"#000000\" points=\"663,-36 609,-36 609,0 663,0 663,-36\"/>\n<text text-anchor=\"middle\" x=\"636\" y=\"-14.3\" font-family=\"Helvetica,sans-Serif\" font-size=\"14.00\" fill=\"#000000\">(...)</text>\n</g>\n<!-- 1042&#45;&gt;1252 -->\n<g id=\"edge14\" class=\"edge\">\n<title>1042&#45;&gt;1252</title>\n<path fill=\"none\" stroke=\"#000000\" d=\"M613.9185,-71.9769C617.5023,-63.2167 621.3138,-53.8995 624.7436,-45.5157\"/>\n<polygon fill=\"#000000\" stroke=\"#000000\" points=\"628.0109,-46.7727 628.5578,-36.192 621.532,-44.1222 628.0109,-46.7727\"/>\n</g>\n</g>\n</svg>\n"
          },
          "metadata": {}
        },
        {
          "output_type": "execute_result",
          "data": {
            "text/plain": [
              "'tree.png'"
            ],
            "application/vnd.google.colaboratory.intrinsic+json": {
              "type": "string"
            }
          },
          "metadata": {},
          "execution_count": 162
        }
      ]
    },
    {
      "cell_type": "code",
      "source": [
        "target_features = [\"연령대\", \"감마GTP\"]\n",
        "\n",
        "interaction = pdp_interact(\n",
        "    model=tree_model,\n",
        "    dataset=X_val,\n",
        "    model_features=X_val.columns,\n",
        "    features=target_features,\n",
        ")\n",
        "pdp_interact_plot(interaction, plot_type=\"grid\", feature_names=['AGE', 'GTP']);"
      ],
      "metadata": {
        "colab": {
          "base_uri": "https://localhost:8080/",
          "height": 581
        },
        "id": "bgReOVbNLASc",
        "outputId": "098d8be5-1eeb-4469-bc39-4604dd1997ab"
      },
      "execution_count": 163,
      "outputs": [
        {
          "output_type": "display_data",
          "data": {
            "text/plain": [
              "<Figure size 540x684 with 3 Axes>"
            ],
            "image/png": "[encoded data removed]"
          },
          "metadata": {
            "needs_background": "light"
          }
        }
      ]
    },
    {
      "cell_type": "code",
      "source": [
        "%matplotlib inline\n",
        "import matplotlib.pyplot as plt\n",
        "\n",
        "importances = pd.Series(tree_model.feature_importances_, X_train.columns)\n",
        "plt.figure(figsize=(10, 20))\n",
        "importances.sort_values().plot.barh();"
      ],
      "metadata": {
        "colab": {
          "base_uri": "https://localhost:8080/",
          "height": 1000
        },
        "id": "Au58GnRerliL",
        "outputId": "e78212d5-4956-4a95-b9ef-33b90aaac909"
      },
      "execution_count": 164,
      "outputs": [
        {
          "output_type": "display_data",
          "data": {
            "text/plain": [
              "<Figure size 720x1440 with 1 Axes>"
            ],
            "image/png": "[encoded data removed]"
          },
          "metadata": {
            "needs_background": "light"
          }
        }
      ]
    },
    {
      "cell_type": "code",
      "source": [
        "X_val_ice = X_val.copy()\n",
        "X_val_ice.reset_index(inplace=True)\n",
        "X_val_ice = X_val_ice.drop( 'index', axis=1 )"
      ],
      "metadata": {
        "id": "iTe1Oci6AMRa"
      },
      "execution_count": 165,
      "outputs": []
    },
    {
      "cell_type": "code",
      "source": [
        "X_val_ice[ (X_val_ice['연령대']== 40) & (X_val_ice['성별']== 2) ].head(10)"
      ],
      "metadata": {
        "colab": {
          "base_uri": "https://localhost:8080/",
          "height": 49
        },
        "id": "73dj7oHl_8CL",
        "outputId": "d54800b3-3a9a-4a0d-9fec-611c76b2c1ce"
      },
      "execution_count": 166,
      "outputs": [
        {
          "output_type": "execute_result",
          "data": {
            "text/plain": [
              "Empty DataFrame\n",
              "Columns: [성별, 연령대, BMI, 허리둘레, 흡연, 음주, 단백뇨, 혈청크레아티닌, AST, ALT, 감마GTP, 고혈압, 고지혈증]\n",
              "Index: []"
            ],
            "text/html": [
              "\n",
              "  <div id=\"df-76dd82e7-f742-4995-bdff-5658e1084c1f\">\n",
              "    <div class=\"colab-df-container\">\n",
              "      <div>\n",
              "<style scoped>\n",
              "    .dataframe tbody tr th:only-of-type {\n",
              "        vertical-align: middle;\n",
              "    }\n",
              "\n",
              "    .dataframe tbody tr th {\n",
              "        vertical-align: top;\n",
              "    }\n",
              "\n",
              "    .dataframe thead th {\n",
              "        text-align: right;\n",
              "    }\n",
              "</style>\n",
              "<table border=\"1\" class=\"dataframe\">\n",
              "  <thead>\n",
              "    <tr style=\"text-align: right;\">\n",
              "      <th></th>\n",
              "      <th>성별</th>\n",
              "      <th>연령대</th>\n",
              "      <th>BMI</th>\n",
              "      <th>허리둘레</th>\n",
              "      <th>흡연</th>\n",
              "      <th>음주</th>\n",
              "      <th>단백뇨</th>\n",
              "      <th>혈청크레아티닌</th>\n",
              "      <th>AST</th>\n",
              "      <th>ALT</th>\n",
              "      <th>감마GTP</th>\n",
              "      <th>고혈압</th>\n",
              "      <th>고지혈증</th>\n",
              "    </tr>\n",
              "  </thead>\n",
              "  <tbody>\n",
              "  </tbody>\n",
              "</table>\n",
              "</div>\n",
              "      <button class=\"colab-df-convert\" onclick=\"convertToInteractive('df-76dd82e7-f742-4995-bdff-5658e1084c1f')\"\n",
              "              title=\"Convert this dataframe to an interactive table.\"\n",
              "              style=\"display:none;\">\n",
              "        \n",
              "  <svg xmlns=\"http://www.w3.org/2000/svg\" height=\"24px\"viewBox=\"0 0 24 24\"\n",
              "       width=\"24px\">\n",
              "    <path d=\"M0 0h24v24H0V0z\" fill=\"none\"/>\n",
              "    <path d=\"M18.56 5.44l.94 2.06.94-2.06 2.06-.94-2.06-.94-.94-2.06-.94 2.06-2.06.94zm-11 1L8.5 8.5l.94-2.06 2.06-.94-2.06-.94L8.5 2.5l-.94 2.06-2.06.94zm10 10l.94 2.06.94-2.06 2.06-.94-2.06-.94-.94-2.06-.94 2.06-2.06.94z\"/><path d=\"M17.41 7.96l-1.37-1.37c-.4-.4-.92-.59-1.43-.59-.52 0-1.04.2-1.43.59L10.3 9.45l-7.72 7.72c-.78.78-.78 2.05 0 2.83L4 21.41c.39.39.9.59 1.41.59.51 0 1.02-.2 1.41-.59l7.78-7.78 2.81-2.81c.8-.78.8-2.07 0-2.86zM5.41 20L4 18.59l7.72-7.72 1.47 1.35L5.41 20z\"/>\n",
              "  </svg>\n",
              "      </button>\n",
              "      \n",
              "  <style>\n",
              "    .colab-df-container {\n",
              "      display:flex;\n",
              "      flex-wrap:wrap;\n",
              "      gap: 12px;\n",
              "    }\n",
              "\n",
              "    .colab-df-convert {\n",
              "      background-color: #E8F0FE;\n",
              "      border: none;\n",
              "      border-radius: 50%;\n",
              "      cursor: pointer;\n",
              "      display: none;\n",
              "      fill: #1967D2;\n",
              "      height: 32px;\n",
              "      padding: 0 0 0 0;\n",
              "      width: 32px;\n",
              "    }\n",
              "\n",
              "    .colab-df-convert:hover {\n",
              "      background-color: #E2EBFA;\n",
              "      box-shadow: 0px 1px 2px rgba(60, 64, 67, 0.3), 0px 1px 3px 1px rgba(60, 64, 67, 0.15);\n",
              "      fill: #174EA6;\n",
              "    }\n",
              "\n",
              "    [theme=dark] .colab-df-convert {\n",
              "      background-color: #3B4455;\n",
              "      fill: #D2E3FC;\n",
              "    }\n",
              "\n",
              "    [theme=dark] .colab-df-convert:hover {\n",
              "      background-color: #434B5C;\n",
              "      box-shadow: 0px 1px 3px 1px rgba(0, 0, 0, 0.15);\n",
              "      filter: drop-shadow(0px 1px 2px rgba(0, 0, 0, 0.3));\n",
              "      fill: #FFFFFF;\n",
              "    }\n",
              "  </style>\n",
              "\n",
              "      <script>\n",
              "        const buttonEl =\n",
              "          document.querySelector('#df-76dd82e7-f742-4995-bdff-5658e1084c1f button.colab-df-convert');\n",
              "        buttonEl.style.display =\n",
              "          google.colab.kernel.accessAllowed ? 'block' : 'none';\n",
              "\n",
              "        async function convertToInteractive(key) {\n",
              "          const element = document.querySelector('#df-76dd82e7-f742-4995-bdff-5658e1084c1f');\n",
              "          const dataTable =\n",
              "            await google.colab.kernel.invokeFunction('convertToInteractive',\n",
              "                                                     [key], {});\n",
              "          if (!dataTable) return;\n",
              "\n",
              "          const docLinkHtml = 'Like what you see? Visit the ' +\n",
              "            '<a target=\"_blank\" href=https://colab.research.google.com/notebooks/data_table.ipynb>data table notebook</a>'\n",
              "            + ' to learn more about interactive tables.';\n",
              "          element.innerHTML = '';\n",
              "          dataTable['output_type'] = 'display_data';\n",
              "          await google.colab.output.renderOutput(dataTable, element);\n",
              "          const docLink = document.createElement('div');\n",
              "          docLink.innerHTML = docLinkHtml;\n",
              "          element.appendChild(docLink);\n",
              "        }\n",
              "      </script>\n",
              "    </div>\n",
              "  </div>\n",
              "  "
            ]
          },
          "metadata": {},
          "execution_count": 166
        }
      ]
    },
    {
      "cell_type": "code",
      "source": [
        "X_val_ice.iloc[[72,262,317]]"
      ],
      "metadata": {
        "colab": {
          "base_uri": "https://localhost:8080/",
          "height": 143
        },
        "id": "v7jLKG08BY7l",
        "outputId": "67561039-36b1-4e8d-e9f1-0c18137c4604"
      },
      "execution_count": 167,
      "outputs": [
        {
          "output_type": "execute_result",
          "data": {
            "text/plain": [
              "     성별  연령대    BMI  허리둘레  흡연  음주  단백뇨  혈청크레아티닌  AST  ALT  감마GTP  고혈압  고지혈증\n",
              "72    1   60  23.88  82.0   2   1    0      0.9   21   27     80    0     1\n",
              "262   1   75  21.48  83.0   1   0    0      1.2   15   14     22    0     0\n",
              "317   1   45  22.04  71.0   3   1    0      1.1   16   10     17    0     0"
            ],
            "text/html": [
              "\n",
              "  <div id=\"df-94cd9ae9-300c-439a-9986-4ca2f7a38803\">\n",
              "    <div class=\"colab-df-container\">\n",
              "      <div>\n",
              "<style scoped>\n",
              "    .dataframe tbody tr th:only-of-type {\n",
              "        vertical-align: middle;\n",
              "    }\n",
              "\n",
              "    .dataframe tbody tr th {\n",
              "        vertical-align: top;\n",
              "    }\n",
              "\n",
              "    .dataframe thead th {\n",
              "        text-align: right;\n",
              "    }\n",
              "</style>\n",
              "<table border=\"1\" class=\"dataframe\">\n",
              "  <thead>\n",
              "    <tr style=\"text-align: right;\">\n",
              "      <th></th>\n",
              "      <th>성별</th>\n",
              "      <th>연령대</th>\n",
              "      <th>BMI</th>\n",
              "      <th>허리둘레</th>\n",
              "      <th>흡연</th>\n",
              "      <th>음주</th>\n",
              "      <th>단백뇨</th>\n",
              "      <th>혈청크레아티닌</th>\n",
              "      <th>AST</th>\n",
              "      <th>ALT</th>\n",
              "      <th>감마GTP</th>\n",
              "      <th>고혈압</th>\n",
              "      <th>고지혈증</th>\n",
              "    </tr>\n",
              "  </thead>\n",
              "  <tbody>\n",
              "    <tr>\n",
              "      <th>72</th>\n",
              "      <td>1</td>\n",
              "      <td>60</td>\n",
              "      <td>23.88</td>\n",
              "      <td>82.0</td>\n",
              "      <td>2</td>\n",
              "      <td>1</td>\n",
              "      <td>0</td>\n",
              "      <td>0.9</td>\n",
              "      <td>21</td>\n",
              "      <td>27</td>\n",
              "      <td>80</td>\n",
              "      <td>0</td>\n",
              "      <td>1</td>\n",
              "    </tr>\n",
              "    <tr>\n",
              "      <th>262</th>\n",
              "      <td>1</td>\n",
              "      <td>75</td>\n",
              "      <td>21.48</td>\n",
              "      <td>83.0</td>\n",
              "      <td>1</td>\n",
              "      <td>0</td>\n",
              "      <td>0</td>\n",
              "      <td>1.2</td>\n",
              "      <td>15</td>\n",
              "      <td>14</td>\n",
              "      <td>22</td>\n",
              "      <td>0</td>\n",
              "      <td>0</td>\n",
              "    </tr>\n",
              "    <tr>\n",
              "      <th>317</th>\n",
              "      <td>1</td>\n",
              "      <td>45</td>\n",
              "      <td>22.04</td>\n",
              "      <td>71.0</td>\n",
              "      <td>3</td>\n",
              "      <td>1</td>\n",
              "      <td>0</td>\n",
              "      <td>1.1</td>\n",
              "      <td>16</td>\n",
              "      <td>10</td>\n",
              "      <td>17</td>\n",
              "      <td>0</td>\n",
              "      <td>0</td>\n",
              "    </tr>\n",
              "  </tbody>\n",
              "</table>\n",
              "</div>\n",
              "      <button class=\"colab-df-convert\" onclick=\"convertToInteractive('df-94cd9ae9-300c-439a-9986-4ca2f7a38803')\"\n",
              "              title=\"Convert this dataframe to an interactive table.\"\n",
              "              style=\"display:none;\">\n",
              "        \n",
              "  <svg xmlns=\"http://www.w3.org/2000/svg\" height=\"24px\"viewBox=\"0 0 24 24\"\n",
              "       width=\"24px\">\n",
              "    <path d=\"M0 0h24v24H0V0z\" fill=\"none\"/>\n",
              "    <path d=\"M18.56 5.44l.94 2.06.94-2.06 2.06-.94-2.06-.94-.94-2.06-.94 2.06-2.06.94zm-11 1L8.5 8.5l.94-2.06 2.06-.94-2.06-.94L8.5 2.5l-.94 2.06-2.06.94zm10 10l.94 2.06.94-2.06 2.06-.94-2.06-.94-.94-2.06-.94 2.06-2.06.94z\"/><path d=\"M17.41 7.96l-1.37-1.37c-.4-.4-.92-.59-1.43-.59-.52 0-1.04.2-1.43.59L10.3 9.45l-7.72 7.72c-.78.78-.78 2.05 0 2.83L4 21.41c.39.39.9.59 1.41.59.51 0 1.02-.2 1.41-.59l7.78-7.78 2.81-2.81c.8-.78.8-2.07 0-2.86zM5.41 20L4 18.59l7.72-7.72 1.47 1.35L5.41 20z\"/>\n",
              "  </svg>\n",
              "      </button>\n",
              "      \n",
              "  <style>\n",
              "    .colab-df-container {\n",
              "      display:flex;\n",
              "      flex-wrap:wrap;\n",
              "      gap: 12px;\n",
              "    }\n",
              "\n",
              "    .colab-df-convert {\n",
              "      background-color: #E8F0FE;\n",
              "      border: none;\n",
              "      border-radius: 50%;\n",
              "      cursor: pointer;\n",
              "      display: none;\n",
              "      fill: #1967D2;\n",
              "      height: 32px;\n",
              "      padding: 0 0 0 0;\n",
              "      width: 32px;\n",
              "    }\n",
              "\n",
              "    .colab-df-convert:hover {\n",
              "      background-color: #E2EBFA;\n",
              "      box-shadow: 0px 1px 2px rgba(60, 64, 67, 0.3), 0px 1px 3px 1px rgba(60, 64, 67, 0.15);\n",
              "      fill: #174EA6;\n",
              "    }\n",
              "\n",
              "    [theme=dark] .colab-df-convert {\n",
              "      background-color: #3B4455;\n",
              "      fill: #D2E3FC;\n",
              "    }\n",
              "\n",
              "    [theme=dark] .colab-df-convert:hover {\n",
              "      background-color: #434B5C;\n",
              "      box-shadow: 0px 1px 3px 1px rgba(0, 0, 0, 0.15);\n",
              "      filter: drop-shadow(0px 1px 2px rgba(0, 0, 0, 0.3));\n",
              "      fill: #FFFFFF;\n",
              "    }\n",
              "  </style>\n",
              "\n",
              "      <script>\n",
              "        const buttonEl =\n",
              "          document.querySelector('#df-94cd9ae9-300c-439a-9986-4ca2f7a38803 button.colab-df-convert');\n",
              "        buttonEl.style.display =\n",
              "          google.colab.kernel.accessAllowed ? 'block' : 'none';\n",
              "\n",
              "        async function convertToInteractive(key) {\n",
              "          const element = document.querySelector('#df-94cd9ae9-300c-439a-9986-4ca2f7a38803');\n",
              "          const dataTable =\n",
              "            await google.colab.kernel.invokeFunction('convertToInteractive',\n",
              "                                                     [key], {});\n",
              "          if (!dataTable) return;\n",
              "\n",
              "          const docLinkHtml = 'Like what you see? Visit the ' +\n",
              "            '<a target=\"_blank\" href=https://colab.research.google.com/notebooks/data_table.ipynb>data table notebook</a>'\n",
              "            + ' to learn more about interactive tables.';\n",
              "          element.innerHTML = '';\n",
              "          dataTable['output_type'] = 'display_data';\n",
              "          await google.colab.output.renderOutput(dataTable, element);\n",
              "          const docLink = document.createElement('div');\n",
              "          docLink.innerHTML = docLinkHtml;\n",
              "          element.appendChild(docLink);\n",
              "        }\n",
              "      </script>\n",
              "    </div>\n",
              "  </div>\n",
              "  "
            ]
          },
          "metadata": {},
          "execution_count": 167
        }
      ]
    },
    {
      "cell_type": "code",
      "source": [
        "def get_ice_plot_data(data, data_index, target_feature, target_feature_range):\n",
        "    one_datapoint = data.iloc[[data_index]].copy()\n",
        "    results = []\n",
        "\n",
        "    for target_value in target_feature_range:\n",
        "        one_datapoint[target_feature] = target_value\n",
        "        one_datapoint_pred_proba = tree_model.predict_proba(one_datapoint)[:, 1]\n",
        "        results.append(one_datapoint_pred_proba.item())\n",
        "    results = np.array(results)\n",
        "    return target_feature_range, results - results[0]\n",
        "\n",
        "target_feature = \"연령대\"\n",
        "target_feature_range = range(X_val_ice[\"연령대\"].min(), X_val_ice[\"연령대\"].max())\n",
        "for data_index in [15,32,33,  12,24,60]:\n",
        "    plt.plot(\n",
        "        *get_ice_plot_data(\n",
        "            X_val_ice, data_index, target_feature, target_feature_range\n",
        "        ),\n",
        "        label=f\"data_idx={data_index}\",\n",
        "    )\n",
        "plt.xlabel(target_feature);\n",
        "plt.legend();"
      ],
      "metadata": {
        "colab": {
          "base_uri": "https://localhost:8080/",
          "height": 279
        },
        "id": "Hu_1QXtD-2uD",
        "outputId": "13844179-7b87-496a-fe27-354c083e3103"
      },
      "execution_count": 168,
      "outputs": [
        {
          "output_type": "display_data",
          "data": {
            "text/plain": [
              "<Figure size 432x288 with 1 Axes>"
            ],
            "image/png": "[encoded data removed]"
          },
          "metadata": {
            "needs_background": "light"
          }
        }
      ]
    },
    {
      "cell_type": "markdown",
      "source": [
        "# 추가적 모델링"
      ],
      "metadata": {
        "id": "aKqg4MJs_goj"
      }
    },
    {
      "cell_type": "code",
      "source": [
        "tree_model = RandomForestClassifier(random_state=42, oob_score=True, n_jobs=-1)\n",
        "tree_model.fit(X_train, y_train)\n",
        "\n",
        "print(\"훈련 정확도\", tree_model.score(X_train, y_train).round(2))\n",
        "print(\"검증 정확도\", tree_model.score(X_val, y_val).round(2))\n",
        "\n",
        "y_pred = tree_model.predict(X_val)\n",
        "print(classification_report(y_val, y_pred))"
      ],
      "metadata": {
        "colab": {
          "base_uri": "https://localhost:8080/"
        },
        "id": "krKBlHXvc9A7",
        "outputId": "63d7e972-dd1b-4bd6-81d7-56a5d63fa584"
      },
      "execution_count": 169,
      "outputs": [
        {
          "output_type": "stream",
          "name": "stdout",
          "text": [
            "훈련 정확도 1.0\n",
            "검증 정확도 0.87\n",
            "              precision    recall  f1-score   support\n",
            "\n",
            "           0       0.87      1.00      0.93     32127\n",
            "           1       0.38      0.01      0.02      4830\n",
            "\n",
            "    accuracy                           0.87     36957\n",
            "   macro avg       0.62      0.50      0.48     36957\n",
            "weighted avg       0.81      0.87      0.81     36957\n",
            "\n"
          ]
        }
      ]
    },
    {
      "cell_type": "code",
      "source": [
        "X_train_sampled, y_train_sampled = SMOTETomek(random_state=42).fit_resample( X_train, y_train )\n",
        "\n",
        "model = XGBClassifier(\n",
        "    \n",
        "    objective = \"binary:logistic\", # 2진 로지스틱회귀 분류\n",
        "\n",
        "    eval_metric = \"auc\", # 평가지표는 분류이기에 AUC\n",
        "\n",
        "    n_estimators = 9999999, # 모델 갯수는 높게하고, early_stopping 사용\n",
        "\n",
        "    random_state = 42, # 차후 검증을 위해 고정\n",
        "\n",
        "    n_jobs=-1, # 모든 자원 사용\n",
        "\n",
        "    max_depth = 8, # 트리의 최대 깊이\n",
        "\n",
        "    learning_rate = 0.1, # 학습률은 0.01~ 0.2 사이\n",
        "\n",
        "    scale_pos_weight = (y_train_sampled == 0).sum() / (y_train_sampled == 1).sum()\n",
        ")\n",
        "\n",
        "watchlist = [(X_train_sampled, y_train_sampled), (X_val, y_val)]\n",
        "\n",
        "model.fit(\n",
        "    X_train_sampled, y_train_sampled,\n",
        "    eval_set = watchlist,\n",
        "    early_stopping_rounds = 30,  # 30 동안 성능 개선\n",
        ")"
      ],
      "metadata": {
        "colab": {
          "base_uri": "https://localhost:8080/"
        },
        "id": "uf35bHN4RBPg",
        "outputId": "f3dca79a-b40b-4283-c4b6-a4ca70c35d05"
      },
      "execution_count": 170,
      "outputs": [
        {
          "output_type": "stream",
          "name": "stdout",
          "text": [
            "[0]\tvalidation_0-auc:0.794683\tvalidation_1-auc:0.619935\n",
            "Multiple eval metrics have been passed: 'validation_1-auc' will be used for early stopping.\n",
            "\n",
            "Will train until validation_1-auc hasn't improved in 30 rounds.\n",
            "[1]\tvalidation_0-auc:0.836686\tvalidation_1-auc:0.629122\n",
            "[2]\tvalidation_0-auc:0.846649\tvalidation_1-auc:0.631331\n",
            "[3]\tvalidation_0-auc:0.876029\tvalidation_1-auc:0.63957\n",
            "[4]\tvalidation_0-auc:0.881805\tvalidation_1-auc:0.640503\n",
            "[5]\tvalidation_0-auc:0.889959\tvalidation_1-auc:0.643612\n",
            "[6]\tvalidation_0-auc:0.896776\tvalidation_1-auc:0.647274\n",
            "[7]\tvalidation_0-auc:0.904643\tvalidation_1-auc:0.650377\n",
            "[8]\tvalidation_0-auc:0.906919\tvalidation_1-auc:0.651784\n",
            "[9]\tvalidation_0-auc:0.914792\tvalidation_1-auc:0.655899\n",
            "[10]\tvalidation_0-auc:0.917916\tvalidation_1-auc:0.65651\n",
            "[11]\tvalidation_0-auc:0.920565\tvalidation_1-auc:0.658947\n",
            "[12]\tvalidation_0-auc:0.922507\tvalidation_1-auc:0.662029\n",
            "[13]\tvalidation_0-auc:0.925543\tvalidation_1-auc:0.663594\n",
            "[14]\tvalidation_0-auc:0.926431\tvalidation_1-auc:0.665007\n",
            "[15]\tvalidation_0-auc:0.927683\tvalidation_1-auc:0.665187\n",
            "[16]\tvalidation_0-auc:0.928734\tvalidation_1-auc:0.666513\n",
            "[17]\tvalidation_0-auc:0.929775\tvalidation_1-auc:0.665692\n",
            "[18]\tvalidation_0-auc:0.930143\tvalidation_1-auc:0.666911\n",
            "[19]\tvalidation_0-auc:0.931323\tvalidation_1-auc:0.668695\n",
            "[20]\tvalidation_0-auc:0.932385\tvalidation_1-auc:0.669889\n",
            "[21]\tvalidation_0-auc:0.932811\tvalidation_1-auc:0.670783\n",
            "[22]\tvalidation_0-auc:0.933508\tvalidation_1-auc:0.672105\n",
            "[23]\tvalidation_0-auc:0.934078\tvalidation_1-auc:0.673232\n",
            "[24]\tvalidation_0-auc:0.935642\tvalidation_1-auc:0.674088\n",
            "[25]\tvalidation_0-auc:0.93648\tvalidation_1-auc:0.675387\n",
            "[26]\tvalidation_0-auc:0.93664\tvalidation_1-auc:0.67583\n",
            "[27]\tvalidation_0-auc:0.937245\tvalidation_1-auc:0.676623\n",
            "[28]\tvalidation_0-auc:0.937295\tvalidation_1-auc:0.676379\n",
            "[29]\tvalidation_0-auc:0.937996\tvalidation_1-auc:0.676657\n",
            "[30]\tvalidation_0-auc:0.938813\tvalidation_1-auc:0.678165\n",
            "[31]\tvalidation_0-auc:0.939011\tvalidation_1-auc:0.678621\n",
            "[32]\tvalidation_0-auc:0.940666\tvalidation_1-auc:0.679428\n",
            "[33]\tvalidation_0-auc:0.941072\tvalidation_1-auc:0.680185\n",
            "[34]\tvalidation_0-auc:0.941384\tvalidation_1-auc:0.680187\n",
            "[35]\tvalidation_0-auc:0.941528\tvalidation_1-auc:0.680527\n",
            "[36]\tvalidation_0-auc:0.942001\tvalidation_1-auc:0.680591\n",
            "[37]\tvalidation_0-auc:0.942246\tvalidation_1-auc:0.681636\n",
            "[38]\tvalidation_0-auc:0.942561\tvalidation_1-auc:0.681595\n",
            "[39]\tvalidation_0-auc:0.943111\tvalidation_1-auc:0.68167\n",
            "[40]\tvalidation_0-auc:0.943254\tvalidation_1-auc:0.681896\n",
            "[41]\tvalidation_0-auc:0.944189\tvalidation_1-auc:0.68276\n",
            "[42]\tvalidation_0-auc:0.944623\tvalidation_1-auc:0.682724\n",
            "[43]\tvalidation_0-auc:0.944933\tvalidation_1-auc:0.682743\n",
            "[44]\tvalidation_0-auc:0.94527\tvalidation_1-auc:0.683446\n",
            "[45]\tvalidation_0-auc:0.945348\tvalidation_1-auc:0.683362\n",
            "[46]\tvalidation_0-auc:0.945693\tvalidation_1-auc:0.683287\n",
            "[47]\tvalidation_0-auc:0.946064\tvalidation_1-auc:0.683398\n",
            "[48]\tvalidation_0-auc:0.946144\tvalidation_1-auc:0.683284\n",
            "[49]\tvalidation_0-auc:0.94652\tvalidation_1-auc:0.683371\n",
            "[50]\tvalidation_0-auc:0.946684\tvalidation_1-auc:0.683273\n",
            "[51]\tvalidation_0-auc:0.947416\tvalidation_1-auc:0.683294\n",
            "[52]\tvalidation_0-auc:0.947749\tvalidation_1-auc:0.684057\n",
            "[53]\tvalidation_0-auc:0.948867\tvalidation_1-auc:0.684429\n",
            "[54]\tvalidation_0-auc:0.949034\tvalidation_1-auc:0.684656\n",
            "[55]\tvalidation_0-auc:0.949288\tvalidation_1-auc:0.684659\n",
            "[56]\tvalidation_0-auc:0.949781\tvalidation_1-auc:0.684816\n",
            "[57]\tvalidation_0-auc:0.949936\tvalidation_1-auc:0.684563\n",
            "[58]\tvalidation_0-auc:0.950231\tvalidation_1-auc:0.684406\n",
            "[59]\tvalidation_0-auc:0.950361\tvalidation_1-auc:0.684376\n",
            "[60]\tvalidation_0-auc:0.950734\tvalidation_1-auc:0.684366\n",
            "[61]\tvalidation_0-auc:0.951254\tvalidation_1-auc:0.684464\n",
            "[62]\tvalidation_0-auc:0.951466\tvalidation_1-auc:0.684209\n",
            "[63]\tvalidation_0-auc:0.951641\tvalidation_1-auc:0.683872\n",
            "[64]\tvalidation_0-auc:0.952002\tvalidation_1-auc:0.684313\n",
            "[65]\tvalidation_0-auc:0.952229\tvalidation_1-auc:0.68423\n",
            "[66]\tvalidation_0-auc:0.95232\tvalidation_1-auc:0.684042\n",
            "[67]\tvalidation_0-auc:0.953459\tvalidation_1-auc:0.684594\n",
            "[68]\tvalidation_0-auc:0.953593\tvalidation_1-auc:0.684448\n",
            "[69]\tvalidation_0-auc:0.953953\tvalidation_1-auc:0.684453\n",
            "[70]\tvalidation_0-auc:0.954084\tvalidation_1-auc:0.684347\n",
            "[71]\tvalidation_0-auc:0.954203\tvalidation_1-auc:0.684148\n",
            "[72]\tvalidation_0-auc:0.954282\tvalidation_1-auc:0.683929\n",
            "[73]\tvalidation_0-auc:0.954315\tvalidation_1-auc:0.683558\n",
            "[74]\tvalidation_0-auc:0.954537\tvalidation_1-auc:0.683598\n",
            "[75]\tvalidation_0-auc:0.955208\tvalidation_1-auc:0.684021\n",
            "[76]\tvalidation_0-auc:0.955393\tvalidation_1-auc:0.684019\n",
            "[77]\tvalidation_0-auc:0.95544\tvalidation_1-auc:0.683919\n",
            "[78]\tvalidation_0-auc:0.955611\tvalidation_1-auc:0.683988\n",
            "[79]\tvalidation_0-auc:0.955817\tvalidation_1-auc:0.684023\n",
            "[80]\tvalidation_0-auc:0.955952\tvalidation_1-auc:0.684151\n",
            "[81]\tvalidation_0-auc:0.956089\tvalidation_1-auc:0.684441\n",
            "[82]\tvalidation_0-auc:0.956222\tvalidation_1-auc:0.684811\n",
            "[83]\tvalidation_0-auc:0.956271\tvalidation_1-auc:0.684665\n",
            "[84]\tvalidation_0-auc:0.956345\tvalidation_1-auc:0.684902\n",
            "[85]\tvalidation_0-auc:0.956608\tvalidation_1-auc:0.684975\n",
            "[86]\tvalidation_0-auc:0.956693\tvalidation_1-auc:0.684868\n",
            "[87]\tvalidation_0-auc:0.956765\tvalidation_1-auc:0.684927\n",
            "[88]\tvalidation_0-auc:0.956937\tvalidation_1-auc:0.685116\n",
            "[89]\tvalidation_0-auc:0.957075\tvalidation_1-auc:0.68545\n",
            "[90]\tvalidation_0-auc:0.95722\tvalidation_1-auc:0.685432\n",
            "[91]\tvalidation_0-auc:0.957277\tvalidation_1-auc:0.685409\n",
            "[92]\tvalidation_0-auc:0.957407\tvalidation_1-auc:0.685831\n",
            "[93]\tvalidation_0-auc:0.957457\tvalidation_1-auc:0.68572\n",
            "[94]\tvalidation_0-auc:0.957573\tvalidation_1-auc:0.68595\n",
            "[95]\tvalidation_0-auc:0.957597\tvalidation_1-auc:0.685982\n",
            "[96]\tvalidation_0-auc:0.957673\tvalidation_1-auc:0.686008\n",
            "[97]\tvalidation_0-auc:0.957776\tvalidation_1-auc:0.686315\n",
            "[98]\tvalidation_0-auc:0.957814\tvalidation_1-auc:0.686218\n",
            "[99]\tvalidation_0-auc:0.957944\tvalidation_1-auc:0.686339\n",
            "[100]\tvalidation_0-auc:0.958014\tvalidation_1-auc:0.686419\n",
            "[101]\tvalidation_0-auc:0.958022\tvalidation_1-auc:0.686406\n",
            "[102]\tvalidation_0-auc:0.958091\tvalidation_1-auc:0.686554\n",
            "[103]\tvalidation_0-auc:0.958123\tvalidation_1-auc:0.686531\n",
            "[104]\tvalidation_0-auc:0.958145\tvalidation_1-auc:0.686586\n",
            "[105]\tvalidation_0-auc:0.958173\tvalidation_1-auc:0.686507\n",
            "[106]\tvalidation_0-auc:0.958241\tvalidation_1-auc:0.686575\n",
            "[107]\tvalidation_0-auc:0.958319\tvalidation_1-auc:0.686678\n",
            "[108]\tvalidation_0-auc:0.958417\tvalidation_1-auc:0.686614\n",
            "[109]\tvalidation_0-auc:0.958443\tvalidation_1-auc:0.686575\n",
            "[110]\tvalidation_0-auc:0.95847\tvalidation_1-auc:0.686645\n",
            "[111]\tvalidation_0-auc:0.958582\tvalidation_1-auc:0.686703\n",
            "[112]\tvalidation_0-auc:0.958642\tvalidation_1-auc:0.686725\n",
            "[113]\tvalidation_0-auc:0.958677\tvalidation_1-auc:0.686862\n",
            "[114]\tvalidation_0-auc:0.958779\tvalidation_1-auc:0.686966\n",
            "[115]\tvalidation_0-auc:0.958816\tvalidation_1-auc:0.686982\n",
            "[116]\tvalidation_0-auc:0.958839\tvalidation_1-auc:0.687029\n",
            "[117]\tvalidation_0-auc:0.958906\tvalidation_1-auc:0.687089\n",
            "[118]\tvalidation_0-auc:0.958988\tvalidation_1-auc:0.687025\n",
            "[119]\tvalidation_0-auc:0.959025\tvalidation_1-auc:0.686985\n",
            "[120]\tvalidation_0-auc:0.959135\tvalidation_1-auc:0.687043\n",
            "[121]\tvalidation_0-auc:0.959166\tvalidation_1-auc:0.686988\n",
            "[122]\tvalidation_0-auc:0.959192\tvalidation_1-auc:0.687012\n",
            "[123]\tvalidation_0-auc:0.959224\tvalidation_1-auc:0.686934\n",
            "[124]\tvalidation_0-auc:0.959278\tvalidation_1-auc:0.686976\n",
            "[125]\tvalidation_0-auc:0.959314\tvalidation_1-auc:0.687011\n",
            "[126]\tvalidation_0-auc:0.959375\tvalidation_1-auc:0.68698\n",
            "[127]\tvalidation_0-auc:0.959413\tvalidation_1-auc:0.687172\n",
            "[128]\tvalidation_0-auc:0.959437\tvalidation_1-auc:0.687145\n",
            "[129]\tvalidation_0-auc:0.959484\tvalidation_1-auc:0.687149\n",
            "[130]\tvalidation_0-auc:0.95954\tvalidation_1-auc:0.687082\n",
            "[131]\tvalidation_0-auc:0.959552\tvalidation_1-auc:0.687045\n",
            "[132]\tvalidation_0-auc:0.959603\tvalidation_1-auc:0.687083\n",
            "[133]\tvalidation_0-auc:0.959657\tvalidation_1-auc:0.687223\n",
            "[134]\tvalidation_0-auc:0.959757\tvalidation_1-auc:0.687403\n",
            "[135]\tvalidation_0-auc:0.959777\tvalidation_1-auc:0.687353\n",
            "[136]\tvalidation_0-auc:0.959863\tvalidation_1-auc:0.687555\n",
            "[137]\tvalidation_0-auc:0.959911\tvalidation_1-auc:0.687638\n",
            "[138]\tvalidation_0-auc:0.959951\tvalidation_1-auc:0.687761\n",
            "[139]\tvalidation_0-auc:0.959969\tvalidation_1-auc:0.687839\n",
            "[140]\tvalidation_0-auc:0.960009\tvalidation_1-auc:0.687843\n",
            "[141]\tvalidation_0-auc:0.960046\tvalidation_1-auc:0.687854\n",
            "[142]\tvalidation_0-auc:0.960122\tvalidation_1-auc:0.687847\n",
            "[143]\tvalidation_0-auc:0.960161\tvalidation_1-auc:0.687714\n",
            "[144]\tvalidation_0-auc:0.960183\tvalidation_1-auc:0.68779\n",
            "[145]\tvalidation_0-auc:0.960246\tvalidation_1-auc:0.687711\n",
            "[146]\tvalidation_0-auc:0.960295\tvalidation_1-auc:0.687692\n",
            "[147]\tvalidation_0-auc:0.960386\tvalidation_1-auc:0.68787\n",
            "[148]\tvalidation_0-auc:0.960495\tvalidation_1-auc:0.687955\n",
            "[149]\tvalidation_0-auc:0.960507\tvalidation_1-auc:0.687917\n",
            "[150]\tvalidation_0-auc:0.960563\tvalidation_1-auc:0.688033\n",
            "[151]\tvalidation_0-auc:0.96059\tvalidation_1-auc:0.688022\n",
            "[152]\tvalidation_0-auc:0.960666\tvalidation_1-auc:0.688153\n",
            "[153]\tvalidation_0-auc:0.960724\tvalidation_1-auc:0.688292\n",
            "[154]\tvalidation_0-auc:0.960795\tvalidation_1-auc:0.688233\n",
            "[155]\tvalidation_0-auc:0.960822\tvalidation_1-auc:0.688227\n",
            "[156]\tvalidation_0-auc:0.96083\tvalidation_1-auc:0.688178\n",
            "[157]\tvalidation_0-auc:0.960916\tvalidation_1-auc:0.688198\n",
            "[158]\tvalidation_0-auc:0.960935\tvalidation_1-auc:0.688254\n",
            "[159]\tvalidation_0-auc:0.96097\tvalidation_1-auc:0.68821\n",
            "[160]\tvalidation_0-auc:0.960988\tvalidation_1-auc:0.688195\n",
            "[161]\tvalidation_0-auc:0.961014\tvalidation_1-auc:0.68813\n",
            "[162]\tvalidation_0-auc:0.961072\tvalidation_1-auc:0.68824\n",
            "[163]\tvalidation_0-auc:0.961111\tvalidation_1-auc:0.688226\n",
            "[164]\tvalidation_0-auc:0.961126\tvalidation_1-auc:0.688246\n",
            "[165]\tvalidation_0-auc:0.961198\tvalidation_1-auc:0.688247\n",
            "[166]\tvalidation_0-auc:0.961203\tvalidation_1-auc:0.688222\n",
            "[167]\tvalidation_0-auc:0.961277\tvalidation_1-auc:0.688331\n",
            "[168]\tvalidation_0-auc:0.961291\tvalidation_1-auc:0.688338\n",
            "[169]\tvalidation_0-auc:0.961378\tvalidation_1-auc:0.688485\n",
            "[170]\tvalidation_0-auc:0.96139\tvalidation_1-auc:0.688506\n",
            "[171]\tvalidation_0-auc:0.961399\tvalidation_1-auc:0.688489\n",
            "[172]\tvalidation_0-auc:0.961433\tvalidation_1-auc:0.688539\n",
            "[173]\tvalidation_0-auc:0.961511\tvalidation_1-auc:0.6886\n",
            "[174]\tvalidation_0-auc:0.961545\tvalidation_1-auc:0.688706\n",
            "[175]\tvalidation_0-auc:0.961573\tvalidation_1-auc:0.688681\n",
            "[176]\tvalidation_0-auc:0.961628\tvalidation_1-auc:0.688785\n",
            "[177]\tvalidation_0-auc:0.961708\tvalidation_1-auc:0.6889\n",
            "[178]\tvalidation_0-auc:0.961715\tvalidation_1-auc:0.688896\n",
            "[179]\tvalidation_0-auc:0.961737\tvalidation_1-auc:0.688837\n",
            "[180]\tvalidation_0-auc:0.961753\tvalidation_1-auc:0.688816\n",
            "[181]\tvalidation_0-auc:0.961814\tvalidation_1-auc:0.688822\n",
            "[182]\tvalidation_0-auc:0.961823\tvalidation_1-auc:0.688809\n",
            "[183]\tvalidation_0-auc:0.961855\tvalidation_1-auc:0.688812\n",
            "[184]\tvalidation_0-auc:0.961904\tvalidation_1-auc:0.688807\n",
            "[185]\tvalidation_0-auc:0.961933\tvalidation_1-auc:0.688766\n",
            "[186]\tvalidation_0-auc:0.962007\tvalidation_1-auc:0.688756\n",
            "[187]\tvalidation_0-auc:0.962014\tvalidation_1-auc:0.688744\n",
            "[188]\tvalidation_0-auc:0.962042\tvalidation_1-auc:0.688829\n",
            "[189]\tvalidation_0-auc:0.962066\tvalidation_1-auc:0.688763\n",
            "[190]\tvalidation_0-auc:0.962149\tvalidation_1-auc:0.688909\n",
            "[191]\tvalidation_0-auc:0.962182\tvalidation_1-auc:0.688937\n",
            "[192]\tvalidation_0-auc:0.962245\tvalidation_1-auc:0.688899\n",
            "[193]\tvalidation_0-auc:0.962279\tvalidation_1-auc:0.688945\n",
            "[194]\tvalidation_0-auc:0.962288\tvalidation_1-auc:0.68895\n",
            "[195]\tvalidation_0-auc:0.962288\tvalidation_1-auc:0.688922\n",
            "[196]\tvalidation_0-auc:0.962383\tvalidation_1-auc:0.688759\n",
            "[197]\tvalidation_0-auc:0.962418\tvalidation_1-auc:0.68874\n",
            "[198]\tvalidation_0-auc:0.962418\tvalidation_1-auc:0.688718\n",
            "[199]\tvalidation_0-auc:0.962453\tvalidation_1-auc:0.688684\n",
            "[200]\tvalidation_0-auc:0.962522\tvalidation_1-auc:0.6887\n",
            "[201]\tvalidation_0-auc:0.962557\tvalidation_1-auc:0.688751\n",
            "[202]\tvalidation_0-auc:0.962573\tvalidation_1-auc:0.688736\n",
            "[203]\tvalidation_0-auc:0.962645\tvalidation_1-auc:0.688618\n",
            "[204]\tvalidation_0-auc:0.962671\tvalidation_1-auc:0.688599\n",
            "[205]\tvalidation_0-auc:0.962701\tvalidation_1-auc:0.688607\n",
            "[206]\tvalidation_0-auc:0.962741\tvalidation_1-auc:0.68855\n",
            "[207]\tvalidation_0-auc:0.96278\tvalidation_1-auc:0.688561\n",
            "[208]\tvalidation_0-auc:0.962803\tvalidation_1-auc:0.68851\n",
            "[209]\tvalidation_0-auc:0.962824\tvalidation_1-auc:0.6885\n",
            "[210]\tvalidation_0-auc:0.962866\tvalidation_1-auc:0.688546\n",
            "[211]\tvalidation_0-auc:0.962899\tvalidation_1-auc:0.688572\n",
            "[212]\tvalidation_0-auc:0.96294\tvalidation_1-auc:0.688578\n",
            "[213]\tvalidation_0-auc:0.963003\tvalidation_1-auc:0.688567\n",
            "[214]\tvalidation_0-auc:0.96302\tvalidation_1-auc:0.688515\n",
            "[215]\tvalidation_0-auc:0.96304\tvalidation_1-auc:0.688524\n",
            "[216]\tvalidation_0-auc:0.96306\tvalidation_1-auc:0.688483\n",
            "[217]\tvalidation_0-auc:0.963083\tvalidation_1-auc:0.688467\n",
            "[218]\tvalidation_0-auc:0.963093\tvalidation_1-auc:0.688421\n",
            "[219]\tvalidation_0-auc:0.963124\tvalidation_1-auc:0.688439\n",
            "[220]\tvalidation_0-auc:0.96316\tvalidation_1-auc:0.688501\n",
            "[221]\tvalidation_0-auc:0.963166\tvalidation_1-auc:0.68845\n",
            "[222]\tvalidation_0-auc:0.963194\tvalidation_1-auc:0.688447\n",
            "[223]\tvalidation_0-auc:0.963204\tvalidation_1-auc:0.688383\n",
            "[224]\tvalidation_0-auc:0.963207\tvalidation_1-auc:0.68837\n",
            "Stopping. Best iteration:\n",
            "[194]\tvalidation_0-auc:0.962288\tvalidation_1-auc:0.68895\n",
            "\n"
          ]
        },
        {
          "output_type": "execute_result",
          "data": {
            "text/plain": [
              "XGBClassifier(eval_metric='auc', max_depth=8, n_estimators=9999999, n_jobs=-1,\n",
              "              random_state=42, scale_pos_weight=1.0)"
            ]
          },
          "metadata": {},
          "execution_count": 170
        }
      ]
    },
    {
      "cell_type": "markdown",
      "source": [
        "# 모델 평가"
      ],
      "metadata": {
        "id": "BK5ZIJLu_jug"
      }
    },
    {
      "cell_type": "code",
      "source": [
        "def get_roc_auc(model, X_val, y_val):\n",
        "    if isinstance(model, XGBClassifier):\n",
        "        y_pred_proba = model.predict_proba(\n",
        "            X_val)[:, 1] # , iteration_range=(0, model.best_iteration)\n",
        "        \n",
        "    else:\n",
        "        y_pred_proba = model.predict_proba(X_val)[:, 1]\n",
        "\n",
        "    print(\"ROC-AUC:\", roc_auc_score(y_val, y_pred_proba))\n",
        "\n",
        "    baseline_fpr, baseline_tpr, _ = roc_curve(y_val, [0] * len(y_val))\n",
        "    fpr, tpr, thresholds = roc_curve(y_val, y_pred_proba)\n",
        "    tmp = pd.DataFrame({'fpr':fpr, 'tpr':tpr, 'thresholds': thresholds})\n",
        "    plt.plot(\n",
        "        baseline_fpr, baseline_tpr, linestyle=\"--\", color=\"green\", label=\"Baseline\"\n",
        "    )\n",
        "    plt.plot(fpr, tpr, color=\"blue\", label=\"Model\")\n",
        "    plt.scatter(fpr, tpr, color=\"red\")\n",
        "    plt.legend()\n",
        "    plt.title(\"ROC curve\")\n",
        "    plt.xlabel(\"FPR\")\n",
        "    plt.ylabel(\"TPR\")\n",
        "    plt.show()\n",
        "    return tmp\n",
        "\n",
        "\n",
        "def plot_confusion_matrix(model, X_val, y_val):\n",
        "    if isinstance(model, XGBClassifier):\n",
        "        y_pred = model.predict(X_val, iteration_range=(0, model.best_iteration))\n",
        "    else:\n",
        "        y_pred = model.predict(X_val)\n",
        "    cm = confusion_matrix(y_val, y_pred)\n",
        "    disp = ConfusionMatrixDisplay(cm)\n",
        "    disp.plot(cmap='Blues')\n",
        "    plt.show()\n",
        "\n",
        "\n",
        "def summarize_results(model, X_val, y_val):\n",
        "  if isinstance(model, XGBClassifier):\n",
        "    results = model.evals_result()\n",
        "    tgts = results[\"validation_0\"].keys()\n",
        "    \n",
        "    for tgt in tgts:\n",
        "      train_error = results[\"validation_0\"][tgt]\n",
        "      val_error = results[\"validation_1\"][tgt]\n",
        "      \n",
        "      plt.plot(train_error, label=\"Train\")\n",
        "      plt.plot(val_error, label=\"Validation\")\n",
        "      plt.show()\n",
        "\n",
        "    print(\"검증 정확도\", model.score(X_val, y_val))\n",
        "\n",
        "    if isinstance(model, XGBClassifier):\n",
        "        y_pred = model.predict(X_val) # , iteration_range=(0, model.best_iteration+1)\n",
        "    else:\n",
        "        y_pred = model.predict(X_val)\n",
        "\n",
        "    print(classification_report(y_val, y_pred))\n",
        "\n",
        "    get_roc_auc(model, X_val, y_val)\n",
        "\n",
        "    ConfusionMatrixDisplay.from_estimator(model, X_val, y_val,cmap='Blues')\n",
        "    plt.show()\n",
        "\n",
        "summarize_results(model, X_val, y_val)"
      ],
      "metadata": {
        "colab": {
          "base_uri": "https://localhost:8080/",
          "height": 995
        },
        "id": "kUWjlUavqXJ8",
        "outputId": "bc3d7747-9e97-45a3-9f7a-fcd4c887ba0f"
      },
      "execution_count": 171,
      "outputs": [
        {
          "output_type": "display_data",
          "data": {
            "text/plain": [
              "<Figure size 432x288 with 1 Axes>"
            ],
            "image/png": "[encoded data removed]"
          },
          "metadata": {
            "needs_background": "light"
          }
        },
        {
          "output_type": "stream",
          "name": "stdout",
          "text": [
            "검증 정확도 0.8652758611359147\n",
            "              precision    recall  f1-score   support\n",
            "\n",
            "           0       0.87      0.99      0.93     32127\n",
            "           1       0.38      0.05      0.09      4830\n",
            "\n",
            "    accuracy                           0.87     36957\n",
            "   macro avg       0.63      0.52      0.51     36957\n",
            "weighted avg       0.81      0.87      0.82     36957\n",
            "\n",
            "ROC-AUC: 0.6889501429400823\n"
          ]
        },
        {
          "output_type": "display_data",
          "data": {
            "text/plain": [
              "<Figure size 432x288 with 1 Axes>"
            ],
            "image/png": "[encoded data removed]"
          },
          "metadata": {
            "needs_background": "light"
          }
        },
        {
          "output_type": "display_data",
          "data": {
            "text/plain": [
              "<Figure size 432x288 with 2 Axes>"
            ],
            "image/png": "[encoded data removed]"
          },
          "metadata": {
            "needs_background": "light"
          }
        }
      ]
    },
    {
      "cell_type": "markdown",
      "source": [
        "# MDI"
      ],
      "metadata": {
        "id": "yoGuoO_bAHhc"
      }
    },
    {
      "cell_type": "code",
      "source": [
        "importances = pd.Series(model.feature_importances_, X_train.columns)\n",
        "\n",
        "importances.sort_values().plot.barh()"
      ],
      "metadata": {
        "colab": {
          "base_uri": "https://localhost:8080/",
          "height": 282
        },
        "id": "ZuuKhurzAHHK",
        "outputId": "d68c3325-9644-4c17-92ca-5e05b8213f27"
      },
      "execution_count": 172,
      "outputs": [
        {
          "output_type": "execute_result",
          "data": {
            "text/plain": [
              "<matplotlib.axes._subplots.AxesSubplot at 0x7f735e7dd250>"
            ]
          },
          "metadata": {},
          "execution_count": 172
        },
        {
          "output_type": "display_data",
          "data": {
            "text/plain": [
              "<Figure size 432x288 with 1 Axes>"
            ],
            "image/png": "[encoded data removed]"
          },
          "metadata": {
            "needs_background": "light"
          }
        }
      ]
    },
    {
      "cell_type": "code",
      "source": [
        "def get_ice_plot_data(data, data_index, target_feature, target_feature_range):\n",
        "    one_datapoint = data.iloc[[data_index]].copy()\n",
        "    results = []\n",
        "\n",
        "    for target_value in target_feature_range:\n",
        "        one_datapoint[target_feature] = target_value\n",
        "        one_datapoint_pred_proba = model.predict_proba(one_datapoint)[:, 1]\n",
        "        results.append(one_datapoint_pred_proba.item())\n",
        "    results = np.array(results)\n",
        "    return target_feature_range, results - results[0]\n",
        "\n",
        "target_feature = \"연령대\"\n",
        "target_feature_range = range(X_val[\"연령대\"].min(), X_val[\"연령대\"].max())\n",
        "for data_index in [22,1,31,  95,77,13]: # 40대여성흡연음주 없음=22, 음주있음=1, 흡연음주모두=31 / 40대남성흡연음주 없음=95, 음주있음=77, 흡연음주모두=13\n",
        "    plt.plot(\n",
        "        *get_ice_plot_data(\n",
        "            X_val, data_index, target_feature, target_feature_range\n",
        "        ),\n",
        "        label=f\"data_idx={data_index}\",\n",
        "    )\n",
        "plt.xlabel(target_feature);"
      ],
      "metadata": {
        "colab": {
          "base_uri": "https://localhost:8080/",
          "height": 279
        },
        "id": "iBe2ayg7EqQc",
        "outputId": "13efc1f1-d3a4-403b-bdf6-438b6d9adb73"
      },
      "execution_count": 173,
      "outputs": [
        {
          "output_type": "display_data",
          "data": {
            "text/plain": [
              "<Figure size 432x288 with 1 Axes>"
            ],
            "image/png": "[encoded data removed]"
          },
          "metadata": {
            "needs_background": "light"
          }
        }
      ]
    },
    {
      "cell_type": "markdown",
      "source": [
        "# PDP"
      ],
      "metadata": {
        "id": "1yqOHufd_mZ7"
      }
    },
    {
      "cell_type": "code",
      "source": [
        "target_feature = \"연령대\"\n",
        "\n",
        "isolated = pdp_isolate(\n",
        "    model=model,\n",
        "    dataset=X_val,\n",
        "    model_features=X_val.columns,\n",
        "    feature=target_feature,\n",
        ")\n",
        "pdp_plot(isolated, feature_name=target_feature);"
      ],
      "metadata": {
        "colab": {
          "base_uri": "https://localhost:8080/",
          "height": 578
        },
        "id": "r8E8K3-cyKJl",
        "outputId": "48c6b49b-b2fa-4520-87ce-3a7d786ea928"
      },
      "execution_count": 174,
      "outputs": [
        {
          "output_type": "display_data",
          "data": {
            "text/plain": [
              "<Figure size 1080x684 with 2 Axes>"
            ],
            "image/png": "[encoded data removed]"
          },
          "metadata": {
            "needs_background": "light"
          }
        }
      ]
    },
    {
      "cell_type": "code",
      "source": [
        "target_features = [\"혈청크레아티닌\", \"음주\"]\n",
        "\n",
        "interaction = pdp_interact(\n",
        "    model=model,\n",
        "    dataset=X_val,\n",
        "    model_features=X_val.columns,\n",
        "    features=target_features,\n",
        ")\n",
        "pdp_interact_plot(interaction, plot_type=\"grid\", feature_names=['Creatinine', 'drink']);"
      ],
      "metadata": {
        "colab": {
          "base_uri": "https://localhost:8080/",
          "height": 581
        },
        "id": "UTQ3m75STWoo",
        "outputId": "9b7f8dea-a7f5-4d27-ff1c-2c4261734b76"
      },
      "execution_count": 175,
      "outputs": [
        {
          "output_type": "display_data",
          "data": {
            "text/plain": [
              "<Figure size 540x684 with 3 Axes>"
            ],
            "image/png": "[encoded data removed]"
          },
          "metadata": {
            "needs_background": "light"
          }
        }
      ]
    }
  ]
}