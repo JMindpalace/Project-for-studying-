{
  "nbformat": 4,
  "nbformat_minor": 0,
  "metadata": {
    "colab": {
      "provenance": [],
      "authorship_tag": "ABX9TyN8GWUU/8xQUG1GlHczXKlS",
      "include_colab_link": true
    },
    "kernelspec": {
      "name": "python3",
      "display_name": "Python 3"
    },
    "language_info": {
      "name": "python"
    }
  },
  "cells": [
    {
      "cell_type": "markdown",
      "metadata": {
        "id": "view-in-github",
        "colab_type": "text"
      },
      "source": [
        "<a href=\"https://colab.research.google.com/github/JMindpalace/codestate_section3_project/blob/main/0.%20%ED%8F%89%EA%B0%80%20%EB%82%B4%EC%9A%A9%20%EB%B0%8F%20%EA%B3%BC%EC%A0%9C%20%EC%A0%9C%EC%B6%9C.ipynb\" target=\"_parent\"><img src=\"https://colab.research.google.com/assets/colab-badge.svg\" alt=\"Open In Colab\"/></a>"
      ]
    },
    {
      "cell_type": "markdown",
      "source": [
        "# **Section별 내용**\n",
        "\n",
        "1. 과거 Part: 과거에 진행한 1차, 2차 프로젝트 평가 및 간략한 내용 정리\n",
        "> 건강검진 1년 단순 데이터(약 35만)로 모델링 진행\n",
        "\n",
        "---\n",
        "\n",
        "2. 현재 Part: 이번에 진행할 프로젝트 목표와 평가 내용 정리\n",
        "> 건강검진 5년 대량 데이터(약 35만 * 5년)로 여러 툴 사용하기\n",
        "\n",
        "---\n",
        "\n",
        "3. 미래 Part: 딥러닝 학습 이후 진행하고 싶은 내용, Section3에서 배운 내용의 한계점\n",
        "> 자신의 건강검진 데이터 이미지 분석(딥러닝 - 글자 분석) 등"
      ],
      "metadata": {
        "id": "JN8-CLdCBL7e"
      }
    },
    {
      "cell_type": "markdown",
      "source": [
        "# **과거:Section1, Section2**"
      ],
      "metadata": {
        "id": "_8yZi2Jr8vBC"
      }
    },
    {
      "cell_type": "markdown",
      "source": [
        "## Section1, Section2 프로젝트 동료, 코치 평가\n",
        "< Section1 공통 피드백 >\n",
        "1. 그래프 내용 : 전달 내용이 정확하지 않은 시각화 주의(왜곡된 정보: 확대/축소 해석)\n",
        "2. 그래프 선택 : 내용 갯수에 따른 그래프 선택(Pie, bar etc)\n",
        "3. 그래프 색깔 : 비교 내용은 다른 색상 선택, 단색은 강조부분만 사용, 투명도 활용\n",
        "4. 그래프 설정 : title, y_label, x_label, legend, font_size 등 활용\n",
        "\n",
        "< Section1 개인 피드백 >\n",
        "1. 코치 장점 : 서두의 결론 제시 후 근거 설명으로 흐름 이해가 좋음, 외부 자료로 설득력을 높임, 색다른 분석으로 풍부함\n",
        "2. 코치 단점 : 비전공자가 이해하기 힘든 '귀무가설' 같은 단어 자제 및 실제 가설검정이 아니라면 용어 자제\n",
        "---\n",
        "< Section2 공통 피드백 >\n",
        "1. 문제정의: 명확히 예측해야 할 대상: 어떤 특징 예측 + 타겟 컬럼이 데이터셋의 어떤 컬럼에 어떤 형태로 나타나는지를 파악\n",
        "> 해당 문제를 풀기 위해서 구체적으로 어떤 작은 문제를 풀 수 있고 질문해 볼 수 있을지 고민해보세요\n",
        "2. 프레젠테이션: 발표 목적에 맞고, 논리성을 띄어야함\n",
        "3. 기술적 질문: 모델링, 평가지표, 하이퍼파라미터, 성능 개선 등 추가 업데이트 진행\n",
        "\n",
        "< Section2 개인 피드백 - 코치 >\n",
        "1. 단점 : 현재의 2030과 40대 이후 데이터는 다양한 측면에서 다른 세대\n",
        "2. 단점 : 3가지 타겟을 따로 예측하는 모델을 만든 이유 필요(ML 모델링은 고가이기에 설득력 제시)\n",
        "3. 단점 : 문제 정의를 보완해야함\n",
        "4. 장점 : 트리 모델을 통한 모델 결정 알고리즘이 좋음\n",
        "\n",
        "< Section2 개인 피드백 - 팀원 >\n",
        "1. 다양한 시각자료, 명확한 타겟, 모델 비교, 마지막 정리 + 결론이 아쉬움\n",
        "2. 데이터 2차적 분리, 모델링 주요 특성, 마지막 재정리 + 결론에 구체적 결과나 방안 제시\n",
        "3. 다양한 시각화 자료 + 말하는 속도 천천히\n",
        "4. 다양한 시각화 자료, 좋은 시작 + 목차 추가 필요, 의료 용어의 추가 설명, 타겟변수가 많음, 분석결과와 결론의 연결 필요\n",
        "5. 주제와 자료가 적합 + 발표 내용이 조금 어려움\n",
        "6. 시각화로 이해가 쉬움 + 예측과 결론 관계의 이해가 어려움\n",
        "7. 적절한 시각화와 자세한 분석 + 천천히 발음, 다양한 모델 사용\n",
        "---"
      ],
      "metadata": {
        "id": "J2mEZEGp3mjW"
      }
    },
    {
      "cell_type": "code",
      "source": [
        "# https://codestates.notion.site/codestates/4cd7bd12679b41d58fef5370c0fc3b7c - 공통 피드백(그래프)\n",
        "# https://codestates.notion.site/15-2-6339c1eec2424b93b5fb231c7cd4f040#f8020134c0a947e297f7186951851dad - 공통 피드백(모델링)"
      ],
      "metadata": {
        "id": "tm_hPdvOc3uF"
      },
      "execution_count": null,
      "outputs": []
    },
    {
      "cell_type": "markdown",
      "source": [
        "## Section2 회고 및 재정의\n",
        "1. 문제정의 : 2년마다 실시하는 건강검진 결과표 해석이 어려움\n",
        "> 의료 분야는 지식이 어려움, 검진 후 의사의 설명을 모두 기억할 수 없음\n",
        "\n",
        "2. 데이터셋 선정: 실제 검진 데이터 결과를 사용하여 바로 사용할 수 있는 것을 목표로 함\n",
        "> EDA와 적절한 시각화로 데이터의 의미를 보여주어 모델링 과정에 도움을 줌\n",
        "\n",
        "3. ML(통계적기법, Non-ML) 사용 이유 : \n",
        "\n",
        "4. 모델링 : 타겟 변수 설정 → 기준 모델 → 모델 비교 및 검증 & 모델 하이퍼파라미터 조정→ 최종 모델 선택 → 일반화 성능 확인 → 모델 해석\n",
        "> 다양한 모델 실험 및 비데이터 직군에게 설명이지만 모델 선정 이유 설명은 필요함\n",
        "\n",
        "5. 프로젝트 목적 : 모델을 기반으로 기존 가설들을 검증하고 결론을 도출하는 것\n",
        "\n",
        "\n",
        "---\n",
        "---"
      ],
      "metadata": {
        "id": "szOZ-w9R0SbP"
      }
    },
    {
      "cell_type": "markdown",
      "source": [
        "# **현재: Section3**"
      ],
      "metadata": {
        "id": "k0cxZ8Fb81u7"
      }
    },
    {
      "cell_type": "markdown",
      "source": [
        "## Section3 프로젝트 목표\n",
        "0. 문제정의 확인, 결론에 구체적 결과나 방안 제시\n",
        "> 노화 설명 추가(나이로 발병할 수 있음 등 추가)\n",
        "\n",
        "1. 'DB(Sqlite)'로 기존 모델을 개선\n",
        "> CSV파일을 DB에서 사용 방법 찾기(기본 DBeaver, 필요시 SQLite)<br>\n",
        "> 모델링 추가 및 개선(기존 트리와 ICE, PDP 보강) 및 Pickle\n",
        "\n",
        "2. 'Metabase'로 다양한 그래프를 사용\n",
        "> 대시보드로 연간 한국인의 자료를 통해 경각심 부각 및 의학 용어로 쉬운 설명\n",
        "\n",
        "3. 'Flask'와 'Heroku'로 예측모델을 배포\n",
        "> 자신의 데이터로 예측\n",
        "\n",
        "4. 발표 : 8분의 부담을 느끼지말고, 천천히 발음하기\n",
        "> 목차 추가, 발표 내용 쉽게 설명하기\n",
        "\n",
        "5. 그 외 추가적 목표: Section3에서 배운 다른 여러가지 툴을 활용 해보기\n",
        "---"
      ],
      "metadata": {
        "id": "e1SGrPn7qVyW"
      }
    },
    {
      "cell_type": "markdown",
      "source": [
        "## Section3에서 배운 내용 및 Tools\n",
        "0. CLI(터미널) - Git Bash & VS\n",
        "1. 파이썬 & 가상환경(아나콘다) & Git\n",
        "2. DBeaver - RDB(Sqlite & Cloud & PostgreSQL) + NoSQL(MongoDB & Pymongo)\n",
        "3. HTML & CSS(Bootstrap)\n",
        "4. Web Scraping\n",
        "5. API - HTTP, REST, Openweather, twitter\n",
        "6. Docker, Flask, Heroku, Metabase, pickle\n",
        "---"
      ],
      "metadata": {
        "id": "wNxoEGcE0R_-"
      }
    },
    {
      "cell_type": "markdown",
      "source": [
        "## 주제 선정 및 데이터 예시\n",
        "\n",
        "< 주제 선정 - 캐글 or 기타 > <br>\n",
        "*   영화 추천 서비스 : 사용자가 이전에 즐겨봤던 영화 기준으로 유사 영화 추천 서비스 제공 가능<br>\n",
        "*   부동산 집값 예측 : 특정 지역에 이전 집값 데이터를 활용해서 향후 부동산 집 값 예측\n",
        "*   주식 데이터 종가 : 주식 데이터를 활용해서 미래나 특정 시점의 종가 예측\n",
        "*   식당  선호  예측 : 식당 리뷰어들의 정보를 통해 나의 별점을 예측함으로써 내가 이 식당을 좋아할 것인지 아닌지\n",
        "*   성향 예측 서비스 : 구글 폼 같은 설문조사 링크를 연결해서 설문 응답 결과를 바탕으로 성향 예측 (MBTI, 강아지형/고양이형 등등)\n",
        "<br><br>\n",
        "\n",
        "< 데이터 선정 - 지난 섹션 데이터 활용 > <br>\n",
        "*   미국 시애틀 King County 지역에서 2014년 5월부터 ~ 2015년 5월 까지 주택 판매 가격 데이터\n",
        "*   2016년 1월 멜버른 주택 시장 데이터\n",
        "*   심혈관 질환 데이터세트\n",
        "*   H1N1 예방접종 예측\n",
        "\n",
        "---"
      ],
      "metadata": {
        "id": "64RKVxMxxj6H"
      }
    },
    {
      "cell_type": "markdown",
      "source": [
        "## Section3 프로젝트 평가 내용\n",
        "\n",
        "---"
      ],
      "metadata": {
        "id": "G386cSByrR90"
      }
    },
    {
      "cell_type": "markdown",
      "source": [
        "## 과제 제출\n",
        "> https://urclass.codestates.com/content/aa5b1bb2-55ef-43d4-a66e-82b7325e8294?playlist=434\n",
        "1. 프로젝트 발표 폼 진행\n",
        "2. 프로젝트 파일을 업로드한 Github의 링크 복사 후 붙여넣기\n",
        "3. 제출 도중에 있는 영상 제출 drop-box에 별도 영상만 제출  [https://www.dropbox.com/request/GRe3T59HjcQRa59SyCQ0]\n",
        "---\n",
        "---"
      ],
      "metadata": {
        "id": "9j3bUg3jqTiB"
      }
    },
    {
      "cell_type": "markdown",
      "source": [
        "# **미래: Section4 계획**\n",
        "1. 개인 검사지를 png, jpeg 등으로 업로드를 받기(프론트엔드 파일 업로드 기능 추가)\n",
        "2. 검사지에서 필요한 개인 수치를 딥러닝으로 추출하여 분석\n",
        "3. 개인적 질병 예측\n",
        "---\n",
        "4. 추가 기능1 : 검사지를 여러장 입력 받아서 하는 예측\n",
        "> 단일 데이터를 이용한 예측이기에 보완점이 많음<br>\n",
        "> 최초의 검사나 간단한 도움으로 생각한다면 장점일 수 있지만<br>\n",
        "> 주기마다의 검사를 반영한 예측의 변화도 필수적 제공 요소임<br>\n",
        "> 따라서 개인 정보를 저장하는 등의 추가적 서비스도 필요함<br>\n",
        "> 하지만 검사 주기가 2년이기에 정보 보존 기한 설정 및 휴먼 계정 전환 방향성이 다름\n",
        "---\n",
        "5. 추가 기능2 : 헬스케어(스마트워치)에서 수집하는 데이터로 단기 예측\n",
        "> 현재는 2년 주기의 검사만으로 예측하기에 보완점이 많음<br>\n",
        "> 스마트워치보다 병원 검진으로 현재 상태를 정확히 파악할 수 있는 장점은 있지만<br>\n",
        "> 2년 주기이기에 그 사이에 예측이 어려워 불안감이 있을 수 있음<br>\n",
        "> 따라서 헬스케어 데이터 수집 및 예측이 추가로 필요함<br>\n",
        "> 하지만 이는 **실시간 데이터 수집 및 전송**을 고려해야함\n",
        "---\n",
        "6. 추가 기능3 : 제공 자료 활용\n",
        "> 현재는 CSV파일을 활용하고 있지만 오픈 API에서 JSON파일 사용도 고려"
      ],
      "metadata": {
        "id": "-WVqiHFv9ANY"
      }
    }
  ]
}