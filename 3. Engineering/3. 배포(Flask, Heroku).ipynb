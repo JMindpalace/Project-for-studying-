{
  "nbformat": 4,
  "nbformat_minor": 0,
  "metadata": {
    "colab": {
      "provenance": [],
      "authorship_tag": "ABX9TyOfk2OE+8/zXkpWuckOkH7O",
      "include_colab_link": true
    },
    "kernelspec": {
      "name": "python3",
      "display_name": "Python 3"
    },
    "language_info": {
      "name": "python"
    }
  },
  "cells": [
    {
      "cell_type": "markdown",
      "metadata": {
        "id": "view-in-github",
        "colab_type": "text"
      },
      "source": [
        "<a href=\"https://colab.research.google.com/github/JMindpalace/codestate_section3_project/blob/main/3.%20%EB%B0%B0%ED%8F%AC(Flask%2C%20Heroku).ipynb\" target=\"_parent\"><img src=\"https://colab.research.google.com/assets/colab-badge.svg\" alt=\"Open In Colab\"/></a>"
      ]
    },
    {
      "cell_type": "markdown",
      "source": [
        "# Flask 기본구성\n",
        "1. login 페이지에서 기본적인 정보를 입력 받는다.\n",
        "2. redirect을 이용하여 각각의 html로 이동한다.\n",
        "3. 타겟 데이터와 성별로 구분되는 각각의 html에서 모델을 요청하여 응답한다."
      ],
      "metadata": {
        "id": "A_YVCJ5Vyc0b"
      }
    },
    {
      "cell_type": "code",
      "source": [
        "# 코드는 추후에 이곳에 업로드"
      ],
      "metadata": {
        "id": "FYgIrmPzznVj"
      },
      "execution_count": null,
      "outputs": []
    },
    {
      "cell_type": "markdown",
      "source": [
        "![image.png](data:image/png;base64,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)"
      ],
      "metadata": {
        "id": "RqJKuz_vyaaI"
      }
    },
    {
      "cell_type": "markdown",
      "source": [
        "# Heroku를 통한 배포\n",
        "> 이번 Section3에서는 없음<br>\n",
        "> 근거1: 입력 받아야하는 데이터가 너무 많음<br>\n",
        "> 근거2: 데이터를 저장할 수 있지만 개인정보이기에 추가적 보호가 필요함<br>\n",
        "> 근거3: 추가적 보호가 없다면 입장마다 입력을 받아야하는데 유저의 귀찮음으로 사용량 감소<br>"
      ],
      "metadata": {
        "id": "x7YpBHc8y6XL"
      }
    }
  ]
}