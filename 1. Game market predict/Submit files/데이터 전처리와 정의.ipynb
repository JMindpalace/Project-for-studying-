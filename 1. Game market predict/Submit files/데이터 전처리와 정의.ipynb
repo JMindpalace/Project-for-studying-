{
  "nbformat": 4,
  "nbformat_minor": 0,
  "metadata": {
    "colab": {
      "name": "데이터 전처리와 정의.ipynb",
      "provenance": []
    },
    "kernelspec": {
      "name": "python3",
      "display_name": "Python 3"
    },
    "language_info": {
      "name": "python"
    }
  },
  "cells": [
    {
      "cell_type": "markdown",
      "source": [
        "# 데이터 전처리"
      ],
      "metadata": {
        "id": "tJ_ayezCMtT4"
      }
    },
    {
      "cell_type": "code",
      "execution_count": 1,
      "metadata": {
        "id": "TyL2lOnEuOPF"
      },
      "outputs": [],
      "source": [
        "import pandas as pd"
      ]
    },
    {
      "cell_type": "code",
      "source": [
        "df = pd.read_csv('vgames2.csv'); df = df[df.columns[1:]]\n",
        "df.head(3)"
      ],
      "metadata": {
        "colab": {
          "base_uri": "https://localhost:8080/",
          "height": 143
        },
        "id": "txyIrwHluWOx",
        "outputId": "ed1b40fc-2684-44de-b2f1-a4755c2afab9"
      },
      "execution_count": 2,
      "outputs": [
        {
          "output_type": "execute_result",
          "data": {
            "text/plain": [
              "                                             Name Platform    Year      Genre  \\\n",
              "0                    Candace Kane's Candy Factory       DS  2008.0     Action   \n",
              "1                                  The Munchables      Wii  2009.0     Action   \n",
              "2  Otome wa Oanesama Boku ni Koi Shiteru Portable      PSP  2010.0  Adventure   \n",
              "\n",
              "            Publisher NA_Sales EU_Sales JP_Sales Other_Sales  \n",
              "0           Destineer     0.04        0        0           0  \n",
              "1  Namco Bandai Games     0.17        0        0        0.01  \n",
              "2           Alchemist        0        0     0.02           0  "
            ],
            "text/html": [
              "\n",
              "  <div id=\"df-5747a068-f97c-429c-b3c7-0dc93a874e24\">\n",
              "    <div class=\"colab-df-container\">\n",
              "      <div>\n",
              "<style scoped>\n",
              "    .dataframe tbody tr th:only-of-type {\n",
              "        vertical-align: middle;\n",
              "    }\n",
              "\n",
              "    .dataframe tbody tr th {\n",
              "        vertical-align: top;\n",
              "    }\n",
              "\n",
              "    .dataframe thead th {\n",
              "        text-align: right;\n",
              "    }\n",
              "</style>\n",
              "<table border=\"1\" class=\"dataframe\">\n",
              "  <thead>\n",
              "    <tr style=\"text-align: right;\">\n",
              "      <th></th>\n",
              "      <th>Name</th>\n",
              "      <th>Platform</th>\n",
              "      <th>Year</th>\n",
              "      <th>Genre</th>\n",
              "      <th>Publisher</th>\n",
              "      <th>NA_Sales</th>\n",
              "      <th>EU_Sales</th>\n",
              "      <th>JP_Sales</th>\n",
              "      <th>Other_Sales</th>\n",
              "    </tr>\n",
              "  </thead>\n",
              "  <tbody>\n",
              "    <tr>\n",
              "      <th>0</th>\n",
              "      <td>Candace Kane's Candy Factory</td>\n",
              "      <td>DS</td>\n",
              "      <td>2008.0</td>\n",
              "      <td>Action</td>\n",
              "      <td>Destineer</td>\n",
              "      <td>0.04</td>\n",
              "      <td>0</td>\n",
              "      <td>0</td>\n",
              "      <td>0</td>\n",
              "    </tr>\n",
              "    <tr>\n",
              "      <th>1</th>\n",
              "      <td>The Munchables</td>\n",
              "      <td>Wii</td>\n",
              "      <td>2009.0</td>\n",
              "      <td>Action</td>\n",
              "      <td>Namco Bandai Games</td>\n",
              "      <td>0.17</td>\n",
              "      <td>0</td>\n",
              "      <td>0</td>\n",
              "      <td>0.01</td>\n",
              "    </tr>\n",
              "    <tr>\n",
              "      <th>2</th>\n",
              "      <td>Otome wa Oanesama Boku ni Koi Shiteru Portable</td>\n",
              "      <td>PSP</td>\n",
              "      <td>2010.0</td>\n",
              "      <td>Adventure</td>\n",
              "      <td>Alchemist</td>\n",
              "      <td>0</td>\n",
              "      <td>0</td>\n",
              "      <td>0.02</td>\n",
              "      <td>0</td>\n",
              "    </tr>\n",
              "  </tbody>\n",
              "</table>\n",
              "</div>\n",
              "      <button class=\"colab-df-convert\" onclick=\"convertToInteractive('df-5747a068-f97c-429c-b3c7-0dc93a874e24')\"\n",
              "              title=\"Convert this dataframe to an interactive table.\"\n",
              "              style=\"display:none;\">\n",
              "        \n",
              "  <svg xmlns=\"http://www.w3.org/2000/svg\" height=\"24px\"viewBox=\"0 0 24 24\"\n",
              "       width=\"24px\">\n",
              "    <path d=\"M0 0h24v24H0V0z\" fill=\"none\"/>\n",
              "    <path d=\"M18.56 5.44l.94 2.06.94-2.06 2.06-.94-2.06-.94-.94-2.06-.94 2.06-2.06.94zm-11 1L8.5 8.5l.94-2.06 2.06-.94-2.06-.94L8.5 2.5l-.94 2.06-2.06.94zm10 10l.94 2.06.94-2.06 2.06-.94-2.06-.94-.94-2.06-.94 2.06-2.06.94z\"/><path d=\"M17.41 7.96l-1.37-1.37c-.4-.4-.92-.59-1.43-.59-.52 0-1.04.2-1.43.59L10.3 9.45l-7.72 7.72c-.78.78-.78 2.05 0 2.83L4 21.41c.39.39.9.59 1.41.59.51 0 1.02-.2 1.41-.59l7.78-7.78 2.81-2.81c.8-.78.8-2.07 0-2.86zM5.41 20L4 18.59l7.72-7.72 1.47 1.35L5.41 20z\"/>\n",
              "  </svg>\n",
              "      </button>\n",
              "      \n",
              "  <style>\n",
              "    .colab-df-container {\n",
              "      display:flex;\n",
              "      flex-wrap:wrap;\n",
              "      gap: 12px;\n",
              "    }\n",
              "\n",
              "    .colab-df-convert {\n",
              "      background-color: #E8F0FE;\n",
              "      border: none;\n",
              "      border-radius: 50%;\n",
              "      cursor: pointer;\n",
              "      display: none;\n",
              "      fill: #1967D2;\n",
              "      height: 32px;\n",
              "      padding: 0 0 0 0;\n",
              "      width: 32px;\n",
              "    }\n",
              "\n",
              "    .colab-df-convert:hover {\n",
              "      background-color: #E2EBFA;\n",
              "      box-shadow: 0px 1px 2px rgba(60, 64, 67, 0.3), 0px 1px 3px 1px rgba(60, 64, 67, 0.15);\n",
              "      fill: #174EA6;\n",
              "    }\n",
              "\n",
              "    [theme=dark] .colab-df-convert {\n",
              "      background-color: #3B4455;\n",
              "      fill: #D2E3FC;\n",
              "    }\n",
              "\n",
              "    [theme=dark] .colab-df-convert:hover {\n",
              "      background-color: #434B5C;\n",
              "      box-shadow: 0px 1px 3px 1px rgba(0, 0, 0, 0.15);\n",
              "      filter: drop-shadow(0px 1px 2px rgba(0, 0, 0, 0.3));\n",
              "      fill: #FFFFFF;\n",
              "    }\n",
              "  </style>\n",
              "\n",
              "      <script>\n",
              "        const buttonEl =\n",
              "          document.querySelector('#df-5747a068-f97c-429c-b3c7-0dc93a874e24 button.colab-df-convert');\n",
              "        buttonEl.style.display =\n",
              "          google.colab.kernel.accessAllowed ? 'block' : 'none';\n",
              "\n",
              "        async function convertToInteractive(key) {\n",
              "          const element = document.querySelector('#df-5747a068-f97c-429c-b3c7-0dc93a874e24');\n",
              "          const dataTable =\n",
              "            await google.colab.kernel.invokeFunction('convertToInteractive',\n",
              "                                                     [key], {});\n",
              "          if (!dataTable) return;\n",
              "\n",
              "          const docLinkHtml = 'Like what you see? Visit the ' +\n",
              "            '<a target=\"_blank\" href=https://colab.research.google.com/notebooks/data_table.ipynb>data table notebook</a>'\n",
              "            + ' to learn more about interactive tables.';\n",
              "          element.innerHTML = '';\n",
              "          dataTable['output_type'] = 'display_data';\n",
              "          await google.colab.output.renderOutput(dataTable, element);\n",
              "          const docLink = document.createElement('div');\n",
              "          docLink.innerHTML = docLinkHtml;\n",
              "          element.appendChild(docLink);\n",
              "        }\n",
              "      </script>\n",
              "    </div>\n",
              "  </div>\n",
              "  "
            ]
          },
          "metadata": {},
          "execution_count": 2
        }
      ]
    },
    {
      "cell_type": "markdown",
      "source": [
        "## 중복 값 제거 (16,598 -> 16,597)\n",
        "> 완전 중복 값만 제거하고,<br>\n",
        "> 동일 게임 명이지만 플랫폼이 다른 등의 중복 값은 합치기 등의 처리는 배제함"
      ],
      "metadata": {
        "id": "NUhL_3OWntKu"
      }
    },
    {
      "cell_type": "code",
      "source": [
        "df = df.drop_duplicates() # 1개 삭제"
      ],
      "metadata": {
        "id": "i4cxrz6xuYYZ"
      },
      "execution_count": 3,
      "outputs": []
    },
    {
      "cell_type": "markdown",
      "source": [
        "## Nan Data 제거 (16,597 -> 16,241)\n",
        "> Nan Data 비중이 2%(356/16597)로 조금의 비중은 있게 판단되나 <br>\n",
        "> 대체 값을 넣기에는 오류 데이터를 만들 가능성이 있기에 <br>\n",
        "> 분석 불가능 데이터로 규정하고 배제로 결정함"
      ],
      "metadata": {
        "id": "hx_0J4fmoBVc"
      }
    },
    {
      "cell_type": "code",
      "source": [
        "df = df.dropna() # 356(year=270, genre=50, publisher=58 , 중복 존재)개 삭제"
      ],
      "metadata": {
        "id": "9sW2eHx2um65"
      },
      "execution_count": 4,
      "outputs": []
    },
    {
      "cell_type": "markdown",
      "source": [
        "## 각 칼럼 조정 (16,241 -> 12,303)\n",
        "*  수치 데이터(연도, 출고량)는 Int로 수식 연산이 가능하도록 함\n",
        "*  글자 데이터(이름, 플랫폼, 장르, 제작사)는 Oject로 비교 연산 중점으로 전처리\n",
        "\n",
        "<br>\n",
        "\n",
        "*  **중점** 데이터는 **수치데이터**와 **플랫폼, 장르** 데이터로 규정하고 <br>\n",
        "   해당 데이터들을 중심으로 전처리를 진행하고, 수식 연산이 가능하도록 한다.\n",
        "\n",
        "*  이름과 제작사는 결과 값 Index와 같으므로 중복허용&거의 전처리 없이 진행하되\n",
        "   <br>결과 값에 대한 이름과 제작사의 확인 여부를 후속 검증하도록 한다.\n",
        "\n",
        "> 플랫폼열부터 값이 당겨진 데이터는 소수(2개)임으로 사용자가 원본파일에서 수정함"
      ],
      "metadata": {
        "id": "GJjuWBsKozcr"
      }
    },
    {
      "cell_type": "markdown",
      "source": [
        "### 1.) **Year(연도)** : 자료형은 Int로 대소, 범위 연산 진행을 할 수 있게 한다\n",
        "> 100 이하인 데이터 변경 ( 0 ~ 16 = 2000년 , 86 ~ 98 = 1900년) <br>\n",
        "> \\>> 사용자의 일괄 조정이므로 오류 데이터를 만들 수 있지만 271개의 Nan 소실로 <br>\n",
        "> 'Year'로 인한 추가적인 100개의 손실 방지를 위해 해당 조정을 진행함"
      ],
      "metadata": {
        "id": "xhFmCgi9AEYq"
      }
    },
    {
      "cell_type": "code",
      "source": [
        "df.Year = df.Year.astype(int)\n",
        "under20, upper85 = df[df.Year < 20] , df[ ( (df.Year > 85) & (df.Year < 100) )]\n",
        "df.Year[under20.index] += 2000; df.Year[upper85.index] += 1900;"
      ],
      "metadata": {
        "colab": {
          "base_uri": "https://localhost:8080/"
        },
        "id": "-edZUvpYuwMb",
        "outputId": "e9336019-a549-4139-878a-04056ca5c39f"
      },
      "execution_count": 5,
      "outputs": [
        {
          "output_type": "stream",
          "name": "stderr",
          "text": [
            "/usr/local/lib/python3.7/dist-packages/ipykernel_launcher.py:3: SettingWithCopyWarning: \n",
            "A value is trying to be set on a copy of a slice from a DataFrame\n",
            "\n",
            "See the caveats in the documentation: https://pandas.pydata.org/pandas-docs/stable/user_guide/indexing.html#returning-a-view-versus-a-copy\n",
            "  This is separate from the ipykernel package so we can avoid doing imports until\n"
          ]
        }
      ]
    },
    {
      "cell_type": "markdown",
      "source": [
        "### 2) **Genre(장르)** : 자료형은 Oject로 등호 연산 진행 / (16,241 -> 13,687)\n",
        "> 오류 2종 제거(Misc(기타, 1,681개) 와 Platform(오류 데이터 기재, 873개) )\n",
        "\n",
        "> Misc(기타) 값은 추후 장르 분석에서 명확한 구분이 되지 않는 데이터로 제거함<br>\n",
        "> Platform 값은 플랫폼 열에는 값이 있기에 잘못 기재한 오류데이터로 제거함"
      ],
      "metadata": {
        "id": "kL-PiI-3sZVg"
      }
    },
    {
      "cell_type": "code",
      "source": [
        "df = df[ (df['Genre'] != 'Misc') & (df['Genre'] != 'Platform') ] # 총 2,554개"
      ],
      "metadata": {
        "id": "Gw61FTg4u1l1"
      },
      "execution_count": 6,
      "outputs": []
    },
    {
      "cell_type": "markdown",
      "source": [
        "### 3) **Platform(플랫폼)** : 자료형은 Oject로 등호 연산 진행 / (13,687 -> 11,240)\n",
        "> 오류 값 제거('2600'): 각 행에 대체 값이 없고, 연도치곤 수치가 너무 커서 제거함\n",
        "\n",
        "> 이하의 10개 플랫폼은 자료의 내용에 따라 데이터 분석에서 제외함 <br>\n",
        "> 이유: 특정 국가에서만 판매 혹은 생산량 100개 이하(개발 시 참고 데이터 부족) \n",
        "> <br> 혹은 최근 10년 이내로 생산되지 않아 단종으로 취급하여 제외함\n",
        "\n",
        "> 'PCFX'은 1996년 1회 생산(일본에서만 판매) 제외함 <br>\n",
        "> 'TG16'은 1995년 2회 생산(일본에서만 판매) 제외함 <br>\n",
        "> '3DO'은 1994년과 5년 총 3회 생산(일본에서만 판매) 제외함 <br>\n",
        "> 'SCD'은 1994년 3회 생산(일본에서만 판매) 제외함 <br>\n",
        "> 'WS'은 1999 ~ 2001년 총 6회 생산(일본에서만 판매) 제외함 <br>\n",
        "> 'NG'은 1993 ~ 6년 총 12회 생산(일본에서만 판매) 제외함 <br>\n",
        "> 'GEN'은 1990 ~ 6년 총 19회 생산으로 제외함 <br>\n",
        "> 'DC'은 1998 ~ 2008년 총 50회 생산으로 제외함 <br>\n",
        "> 'NES'은 1983 ~ 94년 총 68회 생산으로 제외함 <br>\n",
        "> 'GB'은 1989 ~ 2001년 총 71회 생산으로 제외함\n",
        "\n",
        "> 'SNES' & 'SAT'는 생산이 100건 이상이지만 자료상 1999년 이후 단종으로 제외함\n",
        "\n",
        "> 'GC'와 'N64' 플랫폼은 각각 2000, 2003년에 생산 종료라는 도메인으로 제외함\n",
        "\n",
        "> 'Wii'는 13년에 단종, 19년에 소프트 구입 불가능하다는 도메인으로 제외함"
      ],
      "metadata": {
        "id": "JBTTnTplsbhi"
      }
    },
    {
      "cell_type": "code",
      "source": [
        "df = df[ df['Platform'] != '2600' ] # 101개 데이터"
      ],
      "metadata": {
        "id": "FlU6siFDu6Ia"
      },
      "execution_count": 7,
      "outputs": []
    },
    {
      "cell_type": "code",
      "source": [
        "df = df[ (df['Platform'] != 'PCFX') & (df['Platform'] != 'TG16') & (df['Platform'] != '3DO') & (df['Platform'] != 'SCD') & (df['Platform'] != 'WS') &\n",
        "         (df['Platform'] != 'GEN') & (df['Platform'] != 'DC') & (df['Platform'] != 'NES') & (df['Platform'] != 'GB') & (df['Platform'] != 'NG') &\n",
        "         (df['Platform'] != 'SNES') & (df['Platform'] != 'SAT') &\n",
        "         (df['Platform'] != 'GC') & (df['Platform'] != 'N64') &\n",
        "         (df['Platform'] != 'Wii') & (df['Platform'] != 'WiiU') ]"
      ],
      "metadata": {
        "id": "5IMwP2ofZrva"
      },
      "execution_count": 8,
      "outputs": []
    },
    {
      "cell_type": "markdown",
      "source": [
        "### 4) Name(이름) : 자료형은 Oject로 등호 연산 진행을 할 수 있게 한다\n",
        "> 오류 제거(.hack//오류만 제거, 나머지는 도메인 부족으로 후속검증 조치)"
      ],
      "metadata": {
        "id": "q9NfRFcnseuM"
      }
    },
    {
      "cell_type": "code",
      "source": [
        "df.Name = df.Name.str.replace('.hack//',''); # 8개 데이터"
      ],
      "metadata": {
        "colab": {
          "base_uri": "https://localhost:8080/"
        },
        "id": "1aG-X1P8zExz",
        "outputId": "f66825cf-96a5-4fa8-ba33-eb0bbb967561"
      },
      "execution_count": 9,
      "outputs": [
        {
          "output_type": "stream",
          "name": "stderr",
          "text": [
            "/usr/local/lib/python3.7/dist-packages/ipykernel_launcher.py:1: FutureWarning: The default value of regex will change from True to False in a future version.\n",
            "  \"\"\"Entry point for launching an IPython kernel.\n"
          ]
        }
      ]
    },
    {
      "cell_type": "markdown",
      "source": [
        "### 5) **Sales(출고량)** : 자료형은 Int로 대소, 비교 연산 진행을 할 수 있게 한다\n",
        "> K,M 문자 제거, 전체 100을 곱하고, K는 10을 , M은 10,000을 추가로 곱한다 <br>\n",
        "> Int형 연산 및 해석의 용의를 위해 최솟값을 1(개)로 지정한다. <br>\n",
        "<br>\n",
        "> 개별 출고량들을 합한 ['전체 출고량'] 열을 추가한다. <br>\n",
        "> 플랫폼을 수치화하여 ['Platform_num'] 열을 추가한다."
      ],
      "metadata": {
        "id": "RAti1k9wsiMU"
      }
    },
    {
      "cell_type": "code",
      "source": [
        "bm = df.NA_Sales.str.extract('(\\d+M$)').dropna() # 북미 출고량 조정\n",
        "bk = df.NA_Sales.str.extract('(\\d+K$)').dropna()\n",
        "df.NA_Sales = df.NA_Sales.str.replace('K','').str.replace('M','').astype(float);\n",
        "df.NA_Sales *= 100; df.NA_Sales[bk.index] *= 10; df.NA_Sales[bm.index] *= 10000;\n",
        "df.NA_Sales = df.NA_Sales.astype(int);"
      ],
      "metadata": {
        "colab": {
          "base_uri": "https://localhost:8080/"
        },
        "id": "5UULVP-qd7-N",
        "outputId": "b6b78375-7093-46d0-9e58-fa7a1f56a955"
      },
      "execution_count": 10,
      "outputs": [
        {
          "output_type": "stream",
          "name": "stderr",
          "text": [
            "/usr/local/lib/python3.7/dist-packages/ipykernel_launcher.py:4: SettingWithCopyWarning: \n",
            "A value is trying to be set on a copy of a slice from a DataFrame\n",
            "\n",
            "See the caveats in the documentation: https://pandas.pydata.org/pandas-docs/stable/user_guide/indexing.html#returning-a-view-versus-a-copy\n",
            "  after removing the cwd from sys.path.\n"
          ]
        }
      ]
    },
    {
      "cell_type": "code",
      "source": [
        "cm = df.EU_Sales.str.extract('(\\d+M$)').dropna() # EU 출고량 조정\n",
        "ck = df.EU_Sales.str.extract('(\\d+K$)').dropna()\n",
        "df.EU_Sales = df.EU_Sales.str.replace('K','').str.replace('M','').astype(float)\n",
        "df.EU_Sales *= 100; df.EU_Sales[ck.index] *= 10; df.EU_Sales[cm.index] *= 10000;\n",
        "df.EU_Sales = df.EU_Sales.astype(int)"
      ],
      "metadata": {
        "colab": {
          "base_uri": "https://localhost:8080/"
        },
        "id": "wm2pjTOReBYW",
        "outputId": "de67355c-6d8b-44e5-d536-3c19c2711f5d"
      },
      "execution_count": 11,
      "outputs": [
        {
          "output_type": "stream",
          "name": "stderr",
          "text": [
            "/usr/local/lib/python3.7/dist-packages/ipykernel_launcher.py:4: SettingWithCopyWarning: \n",
            "A value is trying to be set on a copy of a slice from a DataFrame\n",
            "\n",
            "See the caveats in the documentation: https://pandas.pydata.org/pandas-docs/stable/user_guide/indexing.html#returning-a-view-versus-a-copy\n",
            "  after removing the cwd from sys.path.\n"
          ]
        }
      ]
    },
    {
      "cell_type": "code",
      "source": [
        "dm = df.JP_Sales.str.extract('(\\d+M$)').dropna() # 일본 출고량 조정\n",
        "dk = df.JP_Sales.str.extract('(\\d+K$)').dropna()\n",
        "df.JP_Sales = df.JP_Sales.str.replace('K','').str.replace('M','').astype(float)\n",
        "df.JP_Sales *= 1000; df.JP_Sales[dk.index] *= 10; df.JP_Sales[dm.index] *= 10000;\n",
        "df.JP_Sales = df.JP_Sales.astype(int)"
      ],
      "metadata": {
        "colab": {
          "base_uri": "https://localhost:8080/"
        },
        "id": "07Lel2FzeBfO",
        "outputId": "b4daf18d-aeac-440c-c98c-93f09139d3fa"
      },
      "execution_count": 12,
      "outputs": [
        {
          "output_type": "stream",
          "name": "stderr",
          "text": [
            "/usr/local/lib/python3.7/dist-packages/ipykernel_launcher.py:4: SettingWithCopyWarning: \n",
            "A value is trying to be set on a copy of a slice from a DataFrame\n",
            "\n",
            "See the caveats in the documentation: https://pandas.pydata.org/pandas-docs/stable/user_guide/indexing.html#returning-a-view-versus-a-copy\n",
            "  after removing the cwd from sys.path.\n"
          ]
        }
      ]
    },
    {
      "cell_type": "code",
      "source": [
        "em = df.Other_Sales.str.extract('(\\d+M$)').dropna() # 기타 출고량 조정\n",
        "ek = df.Other_Sales.str.extract('(\\d+K$)').dropna()\n",
        "df.Other_Sales = df.Other_Sales.str.replace('K','').str.replace('M','').astype(float)\n",
        "df.Other_Sales *= 1000; df.Other_Sales[ek.index] *= 10; df.Other_Sales[em.index] *= 10000;\n",
        "df.Other_Sales = df.Other_Sales.astype(int)"
      ],
      "metadata": {
        "colab": {
          "base_uri": "https://localhost:8080/"
        },
        "id": "G_EpkRMZeBnT",
        "outputId": "8298d7ae-1a22-4049-df6f-d26530b7eea4"
      },
      "execution_count": 13,
      "outputs": [
        {
          "output_type": "stream",
          "name": "stderr",
          "text": [
            "/usr/local/lib/python3.7/dist-packages/ipykernel_launcher.py:4: SettingWithCopyWarning: \n",
            "A value is trying to be set on a copy of a slice from a DataFrame\n",
            "\n",
            "See the caveats in the documentation: https://pandas.pydata.org/pandas-docs/stable/user_guide/indexing.html#returning-a-view-versus-a-copy\n",
            "  after removing the cwd from sys.path.\n"
          ]
        }
      ]
    },
    {
      "cell_type": "code",
      "source": [
        "df['Total_Sales'] = df.NA_Sales + df.EU_Sales + df.JP_Sales + df.Other_Sales"
      ],
      "metadata": {
        "id": "IGe4oErJQflv"
      },
      "execution_count": 14,
      "outputs": []
    },
    {
      "cell_type": "code",
      "source": [
        "a , b = df.Genre.value_counts().index , df.Platform.value_counts().index; rea , reb = {} , {}; list1 , list2 = df.Genre , df.Platform\n",
        "for i in range(len(b)): # 플랫폼 수치화\n",
        "  emp = b[i]; reb[emp]=i+1\n",
        "\n",
        "for key , value in reb.items(): # ['Platform_num'] 열을 추가\n",
        "  list2 = list2.replace(key, value)\n",
        "\n",
        "df['Platform_num'] = list2"
      ],
      "metadata": {
        "id": "KDeclYoQtmJP"
      },
      "execution_count": 15,
      "outputs": []
    },
    {
      "cell_type": "markdown",
      "source": [
        "## 데이터 전처리 종료\n",
        "> 기본 전처리가 종료된 11,240개의 데이터를 모집단으로 재설정한다.\n",
        "\n"
      ],
      "metadata": {
        "id": "XQdlAkVKskW9"
      }
    },
    {
      "cell_type": "code",
      "source": [
        "df.to_csv('전처리완료.csv', index=False)"
      ],
      "metadata": {
        "id": "zKd8AqtevBmF"
      },
      "execution_count": 18,
      "outputs": []
    },
    {
      "cell_type": "markdown",
      "source": [
        "# 데이터 정의\n",
        "## 중점 분석 데이터 - 수치(연도&판매량)와 플랫폼&장르 데이터"
      ],
      "metadata": {
        "id": "8roaoJ2fM2yA"
      }
    },
    {
      "cell_type": "markdown",
      "source": [
        "### **Year(연도)** : 1985 ~ 2020년\n",
        "> 연도로써 최근 10년의 의미는 2006~2016년으로 정의함 <br>\n",
        "\n",
        "> 이유: 2020, 2017년을 분석에 포함하기에는 각각 1, 3개의 데이터로 빈약하고 <br>\n",
        "> 2019 ~ 2018년의 데이터가 없기에 2016년부터를 기준으로 함"
      ],
      "metadata": {
        "id": "kVvYvnOCNLFh"
      }
    },
    {
      "cell_type": "markdown",
      "source": [
        "### **Salse - each & Total**\n",
        "출고량은 소비자의 구매량이므로 출고량 0은 무료게임이 아닌 판매가 안 된 제품임 <br> 출고량 1의 의미는 1개라는 의미로 해석함"
      ],
      "metadata": {
        "id": "ckOvLbukN_FG"
      }
    },
    {
      "cell_type": "markdown",
      "source": [
        "### **Platform(플랫폼)** 남은 13개 세부 그룹화  <BR>\n",
        "1) 플레이스테이션 시리즈(본체 650,000원) : PS, PS2, PS3&PSP , PS4&PSV <BR>\n",
        "2) X-Box 시리즈(본체 630,000원) : XB, X360, Xone <BR>\n",
        "3) 닌텐도 시리즈(본체 380,000원) : DS , 3DS <BR>\n",
        "4) 기타 : PC , GBA"
      ],
      "metadata": {
        "id": "2lnxntorPIjj"
      }
    },
    {
      "cell_type": "markdown",
      "source": [
        "## Index적 역활 데이터 - 이름과 제작사\n",
        "분석을 통한 결과 값(1~3개, 소수)이 나오면 사후 검증으로 조사함"
      ],
      "metadata": {
        "id": "GxlA7hghPRj7"
      }
    }
  ]
}